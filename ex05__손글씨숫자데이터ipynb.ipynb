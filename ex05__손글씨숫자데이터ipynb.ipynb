{
  "nbformat": 4,
  "nbformat_minor": 0,
  "metadata": {
    "colab": {
      "provenance": [],
      "gpuType": "T4",
      "include_colab_link": true
    },
    "kernelspec": {
      "name": "python3",
      "display_name": "Python 3"
    },
    "language_info": {
      "name": "python"
    },
    "accelerator": "GPU"
  },
  "cells": [
    {
      "cell_type": "markdown",
      "metadata": {
        "id": "view-in-github",
        "colab_type": "text"
      },
      "source": [
        "<a href=\"https://colab.research.google.com/github/yyujnn/Deep_Learning/blob/main/ex05__%EC%86%90%EA%B8%80%EC%94%A8%EC%88%AB%EC%9E%90%EB%8D%B0%EC%9D%B4%ED%84%B0ipynb.ipynb\" target=\"_parent\"><img src=\"https://colab.research.google.com/assets/colab-badge.svg\" alt=\"Open In Colab\"/></a>"
      ]
    },
    {
      "cell_type": "markdown",
      "source": [
        "## 회귀\n",
        "- 출력층 units = 1, activation = 'linear'\n",
        "- loss = MSE(평균제곱오차)\n",
        "\n",
        "# 분류\n",
        "## 이진분류\n",
        "- 출력층 units = 1, activation = 'sigmoid'\n",
        "- loss = 'binary_crossentropy'\n",
        "\n",
        "## 다중분류\n",
        "- 출력층 units = 클래스의 수, activation = 'softmax'\n",
        "- loss = 'categorical_crossentropy'"
      ],
      "metadata": {
        "id": "EPmgvdkq2DVI"
      }
    },
    {
      "cell_type": "markdown",
      "source": [
        "### 목표\n",
        "- 신경망을 활용하여 다중 분류에 필요한 keras의 기능을 활용해보자!"
      ],
      "metadata": {
        "id": "LmIeZjARbZTA"
      }
    },
    {
      "cell_type": "code",
      "source": [
        "import numpy as np\n",
        "import matplotlib.pyplot as plt\n",
        "import pandas as pd\n",
        "from tensorflow.keras.datasets import mnist"
      ],
      "metadata": {
        "id": "L9HnBj6FbYNI"
      },
      "execution_count": null,
      "outputs": []
    },
    {
      "cell_type": "code",
      "source": [
        "(X_train, y_train), (X_test, y_test) = mnist.load_data()"
      ],
      "metadata": {
        "colab": {
          "base_uri": "https://localhost:8080/"
        },
        "id": "pGKErpuHbYQw",
        "outputId": "2c40b086-b9e6-4f24-a233-109a3774bd9a"
      },
      "execution_count": null,
      "outputs": [
        {
          "output_type": "stream",
          "name": "stdout",
          "text": [
            "Downloading data from https://storage.googleapis.com/tensorflow/tf-keras-datasets/mnist.npz\n",
            "11490434/11490434 [==============================] - 2s 0us/step\n"
          ]
        }
      ]
    },
    {
      "cell_type": "code",
      "source": [
        "X_train.shape, X_test.shape"
      ],
      "metadata": {
        "colab": {
          "base_uri": "https://localhost:8080/"
        },
        "id": "GDI6NHWfbYTX",
        "outputId": "d069d457-bda1-4d32-e473-767fed1f1d10"
      },
      "execution_count": null,
      "outputs": [
        {
          "output_type": "execute_result",
          "data": {
            "text/plain": [
              "((60000, 28, 28), (10000, 28, 28))"
            ]
          },
          "metadata": {},
          "execution_count": 3
        }
      ]
    },
    {
      "cell_type": "code",
      "source": [
        "y_train.shape, y_test.shape"
      ],
      "metadata": {
        "colab": {
          "base_uri": "https://localhost:8080/"
        },
        "id": "-Bnd_9kdbYWS",
        "outputId": "bd3c5078-c112-4d01-8542-b0890a077291"
      },
      "execution_count": null,
      "outputs": [
        {
          "output_type": "execute_result",
          "data": {
            "text/plain": [
              "((60000,), (10000,))"
            ]
          },
          "metadata": {},
          "execution_count": 4
        }
      ]
    },
    {
      "cell_type": "code",
      "source": [
        "# 50번째 이미지 확인해보기\n",
        "plt.imshow(X_train[50], cmap = 'gray')\n",
        "plt.show()"
      ],
      "metadata": {
        "colab": {
          "base_uri": "https://localhost:8080/",
          "height": 430
        },
        "id": "EMITjE01bYY_",
        "outputId": "04584291-8473-41fd-afae-bf107f61fe34"
      },
      "execution_count": null,
      "outputs": [
        {
          "output_type": "display_data",
          "data": {
            "text/plain": [
              "<Figure size 640x480 with 1 Axes>"
            ],
            "image/png": "[encoded data removed]"
          },
          "metadata": {}
        }
      ]
    },
    {
      "cell_type": "code",
      "source": [
        "y_train[50]"
      ],
      "metadata": {
        "colab": {
          "base_uri": "https://localhost:8080/"
        },
        "id": "qNcOw7XUbYbn",
        "outputId": "67ab3b34-9bdb-47af-ce2e-d15095b21400"
      },
      "execution_count": null,
      "outputs": [
        {
          "output_type": "execute_result",
          "data": {
            "text/plain": [
              "3"
            ]
          },
          "metadata": {},
          "execution_count": 6
        }
      ]
    },
    {
      "cell_type": "code",
      "source": [
        "# 클래스의 개수 확인 - 10개\n",
        "print(np.unique(y_train))\n",
        "print(np.unique(y_train).size)\n",
        "print(np.unique(y_train, return_counts = True))"
      ],
      "metadata": {
        "colab": {
          "base_uri": "https://localhost:8080/"
        },
        "id": "rijkJEWbbYeH",
        "outputId": "904f10f0-8fbb-44b9-e904-447826c4d729"
      },
      "execution_count": null,
      "outputs": [
        {
          "output_type": "stream",
          "name": "stdout",
          "text": [
            "[0 1 2 3 4 5 6 7 8 9]\n",
            "10\n",
            "(array([0, 1, 2, 3, 4, 5, 6, 7, 8, 9], dtype=uint8), array([5923, 6742, 5958, 6131, 5842, 5421, 5918, 6265, 5851, 5949]))\n"
          ]
        }
      ]
    },
    {
      "cell_type": "markdown",
      "source": [
        "### MLP 신경망 설계"
      ],
      "metadata": {
        "id": "kaAPt3dtbYgv"
      }
    },
    {
      "cell_type": "code",
      "source": [
        "y_train_one_hot = pd.get_dummies(y_train)\n",
        "y_test_one_hot = pd.get_dummies(y_test)\n",
        "\n",
        "# 크기확인\n",
        "print(y_train_one_hot.shape)\n",
        "print(y_test_one_hot.shape)\n",
        "# from tensorflow.keras.utils import to_categorical"
      ],
      "metadata": {
        "colab": {
          "base_uri": "https://localhost:8080/"
        },
        "id": "O2vs5Ak8bYjf",
        "outputId": "1296480a-470a-4df6-c10f-8929a4805730"
      },
      "execution_count": null,
      "outputs": [
        {
          "output_type": "stream",
          "name": "stdout",
          "text": [
            "(60000, 10)\n",
            "(10000, 10)\n"
          ]
        }
      ]
    },
    {
      "cell_type": "code",
      "source": [
        "from tensorflow.keras import Sequential\n",
        "from tensorflow.keras.layers import Dense, Flatten\n",
        "from tensorflow.keras.optimizers import SGD, Adam"
      ],
      "metadata": {
        "id": "aHIIBOmDbYmX"
      },
      "execution_count": null,
      "outputs": []
    },
    {
      "cell_type": "code",
      "source": [],
      "metadata": {
        "id": "AOJGw_5mzlrL"
      },
      "execution_count": null,
      "outputs": []
    },
    {
      "cell_type": "code",
      "source": [
        "X_train2 = X_train.reshape(60000, 28*28)\n",
        "X_test2 = X_test.reshape(10000, 28*28)"
      ],
      "metadata": {
        "id": "q2gnhimL8f4y"
      },
      "execution_count": null,
      "outputs": []
    },
    {
      "cell_type": "code",
      "source": [
        "X_test.reshape(10000, 28*28).shape"
      ],
      "metadata": {
        "colab": {
          "base_uri": "https://localhost:8080/"
        },
        "id": "RxBpiH3qiqQE",
        "outputId": "fc2fa9c5-9d4f-4faf-adbe-adc807ecfee0"
      },
      "execution_count": null,
      "outputs": [
        {
          "output_type": "execute_result",
          "data": {
            "text/plain": [
              "(10000, 784)"
            ]
          },
          "metadata": {},
          "execution_count": 11
        }
      ]
    },
    {
      "cell_type": "code",
      "source": [
        "model_mlp = Sequential()\n",
        "model_mlp.add(Dense(300, input_dim = 784, activation = 'relu'))\n",
        "model_mlp.add(Dense(200, activation = 'relu'))\n",
        "model_mlp.add(Dense(50, activation = 'relu'))\n",
        "\n",
        "model_mlp.add(Dense(10, activation='softmax'))"
      ],
      "metadata": {
        "id": "Oa7vwtzUiqSd"
      },
      "execution_count": null,
      "outputs": []
    },
    {
      "cell_type": "code",
      "source": [
        "# 학습/평가 방법 설정\n",
        "model_mlp.compile(loss='sparse_categorical_crossentropy',\n",
        "                  optimizer = 'adam',\n",
        "                  metrics = ['accuracy'])"
      ],
      "metadata": {
        "id": "pBVsnqSUiqU2"
      },
      "execution_count": null,
      "outputs": []
    },
    {
      "cell_type": "code",
      "source": [
        "# 학습\n",
        "mlp_history = model_mlp.fit(X_train2, y_train, validation_split=0.3,\n",
        "                            epochs = 50)"
      ],
      "metadata": {
        "colab": {
          "base_uri": "https://localhost:8080/"
        },
        "id": "XdXrufDXiqXN",
        "outputId": "e8dce4d3-ce0d-46cb-a0b8-e4c1f4079a4a"
      },
      "execution_count": null,
      "outputs": [
        {
          "output_type": "stream",
          "name": "stdout",
          "text": [
            "Epoch 1/50\n",
            "1313/1313 [==============================] - 19s 13ms/step - loss: 1.1617 - accuracy: 0.7912 - val_loss: 0.5318 - val_accuracy: 0.8898\n",
            "Epoch 2/50\n",
            "1313/1313 [==============================] - 11s 8ms/step - loss: 0.3317 - accuracy: 0.9169 - val_loss: 0.2566 - val_accuracy: 0.9385\n",
            "Epoch 3/50\n",
            "1313/1313 [==============================] - 10s 7ms/step - loss: 0.2139 - accuracy: 0.9431 - val_loss: 0.2946 - val_accuracy: 0.9311\n",
            "Epoch 4/50\n",
            "1313/1313 [==============================] - 10s 8ms/step - loss: 0.1644 - accuracy: 0.9533 - val_loss: 0.1971 - val_accuracy: 0.9534\n",
            "Epoch 5/50\n",
            "1313/1313 [==============================] - 10s 8ms/step - loss: 0.1365 - accuracy: 0.9628 - val_loss: 0.2193 - val_accuracy: 0.9498\n",
            "Epoch 6/50\n",
            "1313/1313 [==============================] - 10s 8ms/step - loss: 0.1227 - accuracy: 0.9670 - val_loss: 0.1902 - val_accuracy: 0.9556\n",
            "Epoch 7/50\n",
            "1313/1313 [==============================] - 16s 12ms/step - loss: 0.1125 - accuracy: 0.9709 - val_loss: 0.1727 - val_accuracy: 0.9594\n",
            "Epoch 8/50\n",
            "1313/1313 [==============================] - 22s 16ms/step - loss: 0.0963 - accuracy: 0.9743 - val_loss: 0.1529 - val_accuracy: 0.9624\n",
            "Epoch 9/50\n",
            "1313/1313 [==============================] - 16s 12ms/step - loss: 0.0794 - accuracy: 0.9781 - val_loss: 0.2340 - val_accuracy: 0.9578\n",
            "Epoch 10/50\n",
            "1313/1313 [==============================] - 10s 8ms/step - loss: 0.0880 - accuracy: 0.9773 - val_loss: 0.1730 - val_accuracy: 0.9640\n",
            "Epoch 11/50\n",
            "1313/1313 [==============================] - 15s 12ms/step - loss: 0.0762 - accuracy: 0.9811 - val_loss: 0.1675 - val_accuracy: 0.9630\n",
            "Epoch 12/50\n",
            "1313/1313 [==============================] - 14s 11ms/step - loss: 0.0633 - accuracy: 0.9842 - val_loss: 0.1754 - val_accuracy: 0.9651\n",
            "Epoch 13/50\n",
            "1313/1313 [==============================] - 13s 10ms/step - loss: 0.0687 - accuracy: 0.9833 - val_loss: 0.1692 - val_accuracy: 0.9664\n",
            "Epoch 14/50\n",
            "1313/1313 [==============================] - 16s 12ms/step - loss: 0.0615 - accuracy: 0.9849 - val_loss: 0.1622 - val_accuracy: 0.9706\n",
            "Epoch 15/50\n",
            "1313/1313 [==============================] - 11s 9ms/step - loss: 0.0588 - accuracy: 0.9854 - val_loss: 0.1909 - val_accuracy: 0.9668\n",
            "Epoch 16/50\n",
            "1313/1313 [==============================] - 12s 9ms/step - loss: 0.0508 - accuracy: 0.9879 - val_loss: 0.2441 - val_accuracy: 0.9699\n",
            "Epoch 17/50\n",
            "1313/1313 [==============================] - 10s 8ms/step - loss: 0.0564 - accuracy: 0.9867 - val_loss: 0.1764 - val_accuracy: 0.9719\n",
            "Epoch 18/50\n",
            "1313/1313 [==============================] - 9s 7ms/step - loss: 0.0492 - accuracy: 0.9890 - val_loss: 0.1756 - val_accuracy: 0.9699\n",
            "Epoch 19/50\n",
            "1313/1313 [==============================] - 10s 8ms/step - loss: 0.0464 - accuracy: 0.9890 - val_loss: 0.3072 - val_accuracy: 0.9546\n",
            "Epoch 20/50\n",
            "1313/1313 [==============================] - 11s 8ms/step - loss: 0.0458 - accuracy: 0.9895 - val_loss: 0.1876 - val_accuracy: 0.9708\n",
            "Epoch 21/50\n",
            "1313/1313 [==============================] - 11s 8ms/step - loss: 0.0487 - accuracy: 0.9888 - val_loss: 0.2310 - val_accuracy: 0.9711\n",
            "Epoch 22/50\n",
            "1313/1313 [==============================] - 10s 8ms/step - loss: 0.0462 - accuracy: 0.9899 - val_loss: 0.2101 - val_accuracy: 0.9585\n",
            "Epoch 23/50\n",
            "1313/1313 [==============================] - 9s 7ms/step - loss: 0.0491 - accuracy: 0.9895 - val_loss: 0.2084 - val_accuracy: 0.9705\n",
            "Epoch 24/50\n",
            "1313/1313 [==============================] - 13s 10ms/step - loss: 0.0374 - accuracy: 0.9915 - val_loss: 0.2175 - val_accuracy: 0.9708\n",
            "Epoch 25/50\n",
            "1313/1313 [==============================] - 11s 8ms/step - loss: 0.0391 - accuracy: 0.9914 - val_loss: 0.2227 - val_accuracy: 0.9637\n",
            "Epoch 26/50\n",
            "1313/1313 [==============================] - 11s 8ms/step - loss: 0.0484 - accuracy: 0.9903 - val_loss: 0.2737 - val_accuracy: 0.9611\n",
            "Epoch 27/50\n",
            "1313/1313 [==============================] - 13s 10ms/step - loss: 0.0520 - accuracy: 0.9904 - val_loss: 0.2233 - val_accuracy: 0.9662\n",
            "Epoch 28/50\n",
            "1313/1313 [==============================] - 13s 10ms/step - loss: 0.0458 - accuracy: 0.9901 - val_loss: 0.2170 - val_accuracy: 0.9687\n",
            "Epoch 29/50\n",
            "1313/1313 [==============================] - 10s 8ms/step - loss: 0.0416 - accuracy: 0.9908 - val_loss: 0.2147 - val_accuracy: 0.9715\n",
            "Epoch 30/50\n",
            "1313/1313 [==============================] - 11s 8ms/step - loss: 0.0393 - accuracy: 0.9918 - val_loss: 0.2598 - val_accuracy: 0.9727\n",
            "Epoch 31/50\n",
            "1313/1313 [==============================] - 9s 7ms/step - loss: 0.0610 - accuracy: 0.9897 - val_loss: 0.2837 - val_accuracy: 0.9692\n",
            "Epoch 32/50\n",
            "1313/1313 [==============================] - 10s 8ms/step - loss: 0.0421 - accuracy: 0.9920 - val_loss: 0.2483 - val_accuracy: 0.9704\n",
            "Epoch 33/50\n",
            "1313/1313 [==============================] - 11s 8ms/step - loss: 0.0390 - accuracy: 0.9918 - val_loss: 0.2644 - val_accuracy: 0.9674\n",
            "Epoch 34/50\n",
            "1313/1313 [==============================] - 10s 8ms/step - loss: 0.0354 - accuracy: 0.9931 - val_loss: 0.2749 - val_accuracy: 0.9687\n",
            "Epoch 35/50\n",
            "1313/1313 [==============================] - 12s 9ms/step - loss: 0.0403 - accuracy: 0.9923 - val_loss: 0.3092 - val_accuracy: 0.9727\n",
            "Epoch 36/50\n",
            "1313/1313 [==============================] - 12s 9ms/step - loss: 0.0417 - accuracy: 0.9928 - val_loss: 0.2805 - val_accuracy: 0.9696\n",
            "Epoch 37/50\n",
            "1313/1313 [==============================] - 10s 7ms/step - loss: 0.0401 - accuracy: 0.9926 - val_loss: 0.4793 - val_accuracy: 0.9536\n",
            "Epoch 38/50\n",
            "1313/1313 [==============================] - 11s 8ms/step - loss: 0.0337 - accuracy: 0.9929 - val_loss: 0.3309 - val_accuracy: 0.9717\n",
            "Epoch 39/50\n",
            "1313/1313 [==============================] - 11s 8ms/step - loss: 0.0507 - accuracy: 0.9912 - val_loss: 0.2868 - val_accuracy: 0.9693\n",
            "Epoch 40/50\n",
            "1313/1313 [==============================] - 11s 8ms/step - loss: 0.0380 - accuracy: 0.9923 - val_loss: 0.3831 - val_accuracy: 0.9708\n",
            "Epoch 41/50\n",
            "1313/1313 [==============================] - 10s 8ms/step - loss: 0.0363 - accuracy: 0.9933 - val_loss: 0.3378 - val_accuracy: 0.9691\n",
            "Epoch 42/50\n",
            "1313/1313 [==============================] - 10s 7ms/step - loss: 0.0349 - accuracy: 0.9937 - val_loss: 0.3411 - val_accuracy: 0.9718\n",
            "Epoch 43/50\n",
            "1313/1313 [==============================] - 10s 8ms/step - loss: 0.0329 - accuracy: 0.9944 - val_loss: 0.4064 - val_accuracy: 0.9469\n",
            "Epoch 44/50\n",
            "1313/1313 [==============================] - 11s 8ms/step - loss: 0.0366 - accuracy: 0.9927 - val_loss: 0.3595 - val_accuracy: 0.9699\n",
            "Epoch 45/50\n",
            "1313/1313 [==============================] - 11s 8ms/step - loss: 0.0448 - accuracy: 0.9917 - val_loss: 0.3707 - val_accuracy: 0.9646\n",
            "Epoch 46/50\n",
            "1313/1313 [==============================] - 11s 8ms/step - loss: 0.0431 - accuracy: 0.9917 - val_loss: 0.4322 - val_accuracy: 0.9681\n",
            "Epoch 47/50\n",
            "1313/1313 [==============================] - 9s 7ms/step - loss: 0.0420 - accuracy: 0.9937 - val_loss: 0.3222 - val_accuracy: 0.9711\n",
            "Epoch 48/50\n",
            "1313/1313 [==============================] - 10s 8ms/step - loss: 0.0449 - accuracy: 0.9928 - val_loss: 0.3815 - val_accuracy: 0.9656\n",
            "Epoch 49/50\n",
            "1313/1313 [==============================] - 10s 8ms/step - loss: 0.0321 - accuracy: 0.9941 - val_loss: 0.3369 - val_accuracy: 0.9731\n",
            "Epoch 50/50\n",
            "1313/1313 [==============================] - 11s 8ms/step - loss: 0.0389 - accuracy: 0.9936 - val_loss: 0.4292 - val_accuracy: 0.9711\n"
          ]
        }
      ]
    },
    {
      "cell_type": "code",
      "source": [
        "plt.figure(figsize = (10,4))\n",
        "\n",
        "plt.plot(mlp_history.history['accuracy'], label='acc')\n",
        "plt.plot(mlp_history.history['val_accuracy'], label='val_acc')\n",
        "\n",
        "plt.legend()\n",
        "plt.show()"
      ],
      "metadata": {
        "id": "uvd4yKRniqZk",
        "colab": {
          "base_uri": "https://localhost:8080/",
          "height": 365
        },
        "outputId": "c06b0594-5d29-419a-e3c3-5e585af9fcab"
      },
      "execution_count": null,
      "outputs": [
        {
          "output_type": "display_data",
          "data": {
            "text/plain": [
              "<Figure size 1000x400 with 1 Axes>"
            ],
            "image/png": "[encoded data removed]"
          },
          "metadata": {}
        }
      ]
    },
    {
      "cell_type": "code",
      "source": [
        "X_test[1:2]"
      ],
      "metadata": {
        "id": "ICqAlE1piqb8"
      },
      "execution_count": null,
      "outputs": []
    },
    {
      "cell_type": "code",
      "source": [
        "# 예측\n",
        "pre = model_mlp.predict(X_test2[1:2])\n",
        "print(pre)\n",
        "print('예측한 숫자 :' , pre.argmax())\n",
        "print('실제 답 : ', y_test[1])"
      ],
      "metadata": {
        "id": "eqTO0HCfiqeE",
        "colab": {
          "base_uri": "https://localhost:8080/"
        },
        "outputId": "c54bc898-8c92-41be-845f-54114ef2337d"
      },
      "execution_count": null,
      "outputs": [
        {
          "output_type": "stream",
          "name": "stdout",
          "text": [
            "1/1 [==============================] - 0s 91ms/step\n",
            "[[0. 0. 1. 0. 0. 0. 0. 0. 0. 0.]]\n",
            "예측한 숫자 : 2\n",
            "실제 답 :  2\n"
          ]
        }
      ]
    },
    {
      "cell_type": "code",
      "source": [],
      "metadata": {
        "id": "kvLvicDFiqgV"
      },
      "execution_count": null,
      "outputs": []
    },
    {
      "cell_type": "code",
      "source": [],
      "metadata": {
        "id": "MbwyzIXS8CJ6"
      },
      "execution_count": null,
      "outputs": []
    },
    {
      "cell_type": "markdown",
      "source": [
        "### CNN 모델 설계"
      ],
      "metadata": {
        "id": "cELTqUv68CML"
      }
    },
    {
      "cell_type": "code",
      "source": [
        "from tensorflow.keras import Sequential\n",
        "from tensorflow.keras.layers import Dense, Conv2D, MaxPooling2D, Flatten, InputLayer"
      ],
      "metadata": {
        "id": "DCtHQseX8COi"
      },
      "execution_count": null,
      "outputs": []
    },
    {
      "cell_type": "code",
      "source": [
        "# CNN모델 -> cnn(특징 찾기!) + mlp(분류)\n",
        "# cnn : 이미지 내의 중요 요소, 특징을 찾아내어 학습에 적용시켜줌!\n",
        "# 위치, 크기에 덜 민감하게 작용 -> 정확도, 성능이 높은 모델링!\n",
        "\n",
        "#  CNN 모델의 뼈대\n",
        "model_cnn = Sequential() # 뼈대 구축\n",
        "\n",
        "# 입력층\n",
        "model_cnn.add(InputLayer(input_shape = (28,28,1))) # 흑백 : 1, 컬러 : 3\n",
        "\n",
        "# cnn - 특성추출부\n",
        "# 커널 갯수(돋보기 갯수) : 32, 커널 크기(돋보기 크기) : 4:4\n",
        "model_cnn.add(Conv2D(32, kernel_size=(4,4), padding='same', activation='relu'))\n",
        "model_cnn.add(MaxPooling2D(pool_size = (2,2)))\n",
        "\n",
        "model_cnn.add(Conv2D(64, kernel_size=(4,4), padding='same', activation='relu'))\n",
        "model_cnn.add(MaxPooling2D(pool_size = (2,2)))\n",
        "\n",
        "\n",
        "\n",
        "# mpl층(분류, 예측부)\n",
        "# 이전까지는 2차원, 찾은 특징을 통해 분류할 수 있도록 1차원으로 펴주어야 함\n",
        "model_cnn.add(Flatten())\n",
        "model_cnn.add(Dense(128, activation = 'relu'))\n",
        "# 출력충\n",
        "model_cnn.add(Dense(128, activation= 'softmax'))\n"
      ],
      "metadata": {
        "id": "BqoRI_4f8CQ3"
      },
      "execution_count": null,
      "outputs": []
    },
    {
      "cell_type": "code",
      "source": [
        "# 모델 구조 확인\n",
        "model_cnn.summary()"
      ],
      "metadata": {
        "id": "6WYmXzf08CTM",
        "colab": {
          "base_uri": "https://localhost:8080/"
        },
        "outputId": "525a3996-4d3d-48ac-8b95-9846a8b7dc2f"
      },
      "execution_count": null,
      "outputs": [
        {
          "output_type": "stream",
          "name": "stdout",
          "text": [
            "Model: \"sequential\"\n",
            "_________________________________________________________________\n",
            " Layer (type)                Output Shape              Param #   \n",
            "=================================================================\n",
            " conv2d (Conv2D)             (None, 28, 28, 32)        544       \n",
            "                                                                 \n",
            " max_pooling2d (MaxPooling2D  (None, 14, 14, 32)       0         \n",
            " )                                                               \n",
            "                                                                 \n",
            " conv2d_1 (Conv2D)           (None, 14, 14, 64)        32832     \n",
            "                                                                 \n",
            " max_pooling2d_1 (MaxPooling  (None, 7, 7, 64)         0         \n",
            " 2D)                                                             \n",
            "                                                                 \n",
            " flatten (Flatten)           (None, 3136)              0         \n",
            "                                                                 \n",
            " dense (Dense)               (None, 128)               401536    \n",
            "                                                                 \n",
            " dense_1 (Dense)             (None, 128)               16512     \n",
            "                                                                 \n",
            "=================================================================\n",
            "Total params: 451,424\n",
            "Trainable params: 451,424\n",
            "Non-trainable params: 0\n",
            "_________________________________________________________________\n"
          ]
        }
      ]
    },
    {
      "cell_type": "code",
      "source": [
        "# 학습/ 평가 방법 설정\n",
        "model_cnn.compile(loss = 'sparse_categorical_crossentropy',\n",
        "                  optimizer = 'adam',\n",
        "                  metrics = ['accuracy'])"
      ],
      "metadata": {
        "id": "hTCiDqRb8CVr"
      },
      "execution_count": null,
      "outputs": []
    },
    {
      "cell_type": "code",
      "source": [
        "cnn_history = model_cnn.fit(X_train, y_train,\n",
        "                            validation_split = 0.3,\n",
        "                            epochs = 50)"
      ],
      "metadata": {
        "id": "HJV1E1xl8CX-",
        "colab": {
          "base_uri": "https://localhost:8080/"
        },
        "outputId": "00b57c09-afab-4433-d21c-2487f04858ca"
      },
      "execution_count": null,
      "outputs": [
        {
          "output_type": "stream",
          "name": "stdout",
          "text": [
            "Epoch 1/50\n",
            "1313/1313 [==============================] - 17s 5ms/step - loss: 0.2523 - accuracy: 0.9515 - val_loss: 0.0783 - val_accuracy: 0.9773\n",
            "Epoch 2/50\n",
            "1313/1313 [==============================] - 7s 5ms/step - loss: 0.0619 - accuracy: 0.9815 - val_loss: 0.0782 - val_accuracy: 0.9812\n",
            "Epoch 3/50\n",
            "1313/1313 [==============================] - 6s 5ms/step - loss: 0.0481 - accuracy: 0.9849 - val_loss: 0.0693 - val_accuracy: 0.9796\n",
            "Epoch 4/50\n",
            "1313/1313 [==============================] - 7s 5ms/step - loss: 0.0416 - accuracy: 0.9872 - val_loss: 0.1178 - val_accuracy: 0.9703\n",
            "Epoch 5/50\n",
            "1313/1313 [==============================] - 6s 5ms/step - loss: 0.0371 - accuracy: 0.9880 - val_loss: 0.0789 - val_accuracy: 0.9809\n",
            "Epoch 6/50\n",
            "1313/1313 [==============================] - 7s 5ms/step - loss: 0.0270 - accuracy: 0.9919 - val_loss: 0.0613 - val_accuracy: 0.9846\n",
            "Epoch 7/50\n",
            "1313/1313 [==============================] - 6s 5ms/step - loss: 0.0350 - accuracy: 0.9896 - val_loss: 0.0530 - val_accuracy: 0.9856\n",
            "Epoch 8/50\n",
            "1313/1313 [==============================] - 7s 5ms/step - loss: 0.0245 - accuracy: 0.9928 - val_loss: 0.0660 - val_accuracy: 0.9838\n",
            "Epoch 9/50\n",
            "1313/1313 [==============================] - 6s 5ms/step - loss: 0.0247 - accuracy: 0.9930 - val_loss: 0.1048 - val_accuracy: 0.9809\n",
            "Epoch 10/50\n",
            "1313/1313 [==============================] - 7s 5ms/step - loss: 0.0230 - accuracy: 0.9940 - val_loss: 0.1046 - val_accuracy: 0.9837\n",
            "Epoch 11/50\n",
            "1313/1313 [==============================] - 8s 6ms/step - loss: 0.0265 - accuracy: 0.9931 - val_loss: 0.0960 - val_accuracy: 0.9830\n",
            "Epoch 12/50\n",
            "1313/1313 [==============================] - 6s 5ms/step - loss: 0.0197 - accuracy: 0.9945 - val_loss: 0.1020 - val_accuracy: 0.9854\n",
            "Epoch 13/50\n",
            "1313/1313 [==============================] - 7s 5ms/step - loss: 0.0208 - accuracy: 0.9946 - val_loss: 0.0935 - val_accuracy: 0.9853\n",
            "Epoch 14/50\n",
            "1313/1313 [==============================] - 6s 5ms/step - loss: 0.0194 - accuracy: 0.9953 - val_loss: 0.1235 - val_accuracy: 0.9858\n",
            "Epoch 15/50\n",
            "1313/1313 [==============================] - 7s 5ms/step - loss: 0.0191 - accuracy: 0.9957 - val_loss: 0.1566 - val_accuracy: 0.9802\n",
            "Epoch 16/50\n",
            "1313/1313 [==============================] - 6s 5ms/step - loss: 0.0266 - accuracy: 0.9943 - val_loss: 0.1563 - val_accuracy: 0.9824\n",
            "Epoch 17/50\n",
            "1313/1313 [==============================] - 7s 5ms/step - loss: 0.0203 - accuracy: 0.9958 - val_loss: 0.1204 - val_accuracy: 0.9853\n",
            "Epoch 18/50\n",
            "1313/1313 [==============================] - 7s 5ms/step - loss: 0.0194 - accuracy: 0.9955 - val_loss: 0.1598 - val_accuracy: 0.9854\n",
            "Epoch 19/50\n",
            "1313/1313 [==============================] - 7s 5ms/step - loss: 0.0189 - accuracy: 0.9964 - val_loss: 0.1411 - val_accuracy: 0.9863\n",
            "Epoch 20/50\n",
            "1313/1313 [==============================] - 6s 5ms/step - loss: 0.0221 - accuracy: 0.9960 - val_loss: 0.2171 - val_accuracy: 0.9836\n",
            "Epoch 21/50\n",
            "1313/1313 [==============================] - 7s 5ms/step - loss: 0.0301 - accuracy: 0.9957 - val_loss: 0.1535 - val_accuracy: 0.9857\n",
            "Epoch 22/50\n",
            "1313/1313 [==============================] - 6s 5ms/step - loss: 0.0213 - accuracy: 0.9965 - val_loss: 0.2156 - val_accuracy: 0.9848\n",
            "Epoch 23/50\n",
            "1313/1313 [==============================] - 7s 5ms/step - loss: 0.0173 - accuracy: 0.9974 - val_loss: 0.1751 - val_accuracy: 0.9871\n",
            "Epoch 24/50\n",
            "1313/1313 [==============================] - 8s 6ms/step - loss: 0.0215 - accuracy: 0.9970 - val_loss: 0.2666 - val_accuracy: 0.9820\n",
            "Epoch 25/50\n",
            "1313/1313 [==============================] - 6s 5ms/step - loss: 0.0235 - accuracy: 0.9964 - val_loss: 0.2692 - val_accuracy: 0.9837\n",
            "Epoch 26/50\n",
            "1313/1313 [==============================] - 7s 5ms/step - loss: 0.0243 - accuracy: 0.9962 - val_loss: 0.2002 - val_accuracy: 0.9863\n",
            "Epoch 27/50\n",
            "1313/1313 [==============================] - 6s 5ms/step - loss: 0.0246 - accuracy: 0.9966 - val_loss: 0.3005 - val_accuracy: 0.9837\n",
            "Epoch 28/50\n",
            "1313/1313 [==============================] - 7s 5ms/step - loss: 0.0269 - accuracy: 0.9966 - val_loss: 0.2629 - val_accuracy: 0.9857\n",
            "Epoch 29/50\n",
            "1313/1313 [==============================] - 6s 5ms/step - loss: 0.0192 - accuracy: 0.9977 - val_loss: 0.2340 - val_accuracy: 0.9853\n",
            "Epoch 30/50\n",
            "1313/1313 [==============================] - 7s 5ms/step - loss: 0.0311 - accuracy: 0.9970 - val_loss: 0.2949 - val_accuracy: 0.9861\n",
            "Epoch 31/50\n",
            "1313/1313 [==============================] - 6s 5ms/step - loss: 0.0210 - accuracy: 0.9978 - val_loss: 0.3099 - val_accuracy: 0.9855\n",
            "Epoch 32/50\n",
            "1313/1313 [==============================] - 7s 5ms/step - loss: 0.0304 - accuracy: 0.9972 - val_loss: 0.3812 - val_accuracy: 0.9859\n",
            "Epoch 33/50\n",
            "1313/1313 [==============================] - 6s 5ms/step - loss: 0.0289 - accuracy: 0.9976 - val_loss: 0.2855 - val_accuracy: 0.9870\n",
            "Epoch 34/50\n",
            "1313/1313 [==============================] - 7s 5ms/step - loss: 0.0338 - accuracy: 0.9971 - val_loss: 0.3326 - val_accuracy: 0.9869\n",
            "Epoch 35/50\n",
            "1313/1313 [==============================] - 6s 5ms/step - loss: 0.0221 - accuracy: 0.9974 - val_loss: 0.2739 - val_accuracy: 0.9869\n",
            "Epoch 36/50\n",
            "1313/1313 [==============================] - 7s 5ms/step - loss: 0.0110 - accuracy: 0.9985 - val_loss: 0.3852 - val_accuracy: 0.9852\n",
            "Epoch 37/50\n",
            "1313/1313 [==============================] - 6s 5ms/step - loss: 0.0286 - accuracy: 0.9979 - val_loss: 0.4111 - val_accuracy: 0.9842\n",
            "Epoch 38/50\n",
            "1313/1313 [==============================] - 7s 5ms/step - loss: 0.0336 - accuracy: 0.9974 - val_loss: 0.3159 - val_accuracy: 0.9862\n",
            "Epoch 39/50\n",
            "1313/1313 [==============================] - 8s 6ms/step - loss: 0.0243 - accuracy: 0.9981 - val_loss: 0.4144 - val_accuracy: 0.9858\n",
            "Epoch 40/50\n",
            "1313/1313 [==============================] - 6s 5ms/step - loss: 0.0289 - accuracy: 0.9975 - val_loss: 0.4039 - val_accuracy: 0.9861\n",
            "Epoch 41/50\n",
            "1313/1313 [==============================] - 8s 6ms/step - loss: 0.0187 - accuracy: 0.9985 - val_loss: 0.4131 - val_accuracy: 0.9868\n",
            "Epoch 42/50\n",
            "1313/1313 [==============================] - 6s 5ms/step - loss: 0.0337 - accuracy: 0.9977 - val_loss: 0.4413 - val_accuracy: 0.9873\n",
            "Epoch 43/50\n",
            "1313/1313 [==============================] - 7s 5ms/step - loss: 0.0255 - accuracy: 0.9983 - val_loss: 0.5187 - val_accuracy: 0.9856\n",
            "Epoch 44/50\n",
            "1313/1313 [==============================] - 6s 5ms/step - loss: 0.0351 - accuracy: 0.9977 - val_loss: 0.6430 - val_accuracy: 0.9841\n",
            "Epoch 45/50\n",
            "1313/1313 [==============================] - 7s 5ms/step - loss: 0.0321 - accuracy: 0.9982 - val_loss: 0.5929 - val_accuracy: 0.9868\n",
            "Epoch 46/50\n",
            "1313/1313 [==============================] - 6s 5ms/step - loss: 0.0309 - accuracy: 0.9985 - val_loss: 0.5546 - val_accuracy: 0.9871\n",
            "Epoch 47/50\n",
            "1313/1313 [==============================] - 7s 5ms/step - loss: 0.0316 - accuracy: 0.9982 - val_loss: 0.6886 - val_accuracy: 0.9846\n",
            "Epoch 48/50\n",
            "1313/1313 [==============================] - 7s 5ms/step - loss: 0.0339 - accuracy: 0.9981 - val_loss: 0.7493 - val_accuracy: 0.9867\n",
            "Epoch 49/50\n",
            "1313/1313 [==============================] - 6s 5ms/step - loss: 0.0508 - accuracy: 0.9977 - val_loss: 0.6623 - val_accuracy: 0.9862\n",
            "Epoch 50/50\n",
            "1313/1313 [==============================] - 7s 5ms/step - loss: 0.0311 - accuracy: 0.9985 - val_loss: 0.7095 - val_accuracy: 0.9868\n"
          ]
        }
      ]
    },
    {
      "cell_type": "code",
      "source": [
        "# 시각화 해보기\n",
        "plt.figure(figsize = (10,4))\n",
        "\n",
        "plt.plot(cnn_history.history['accuracy'], label='acc')\n",
        "plt.plot(cnn_history.history['val_accuracy'], label='val_acc')\n",
        "\n",
        "plt.legend()\n",
        "plt.show()"
      ],
      "metadata": {
        "colab": {
          "base_uri": "https://localhost:8080/",
          "height": 369
        },
        "id": "Bz0l3kn8ESzJ",
        "outputId": "49a92ea7-8e0d-41b7-953c-6dac8ef1ba04"
      },
      "execution_count": null,
      "outputs": [
        {
          "output_type": "display_data",
          "data": {
            "text/plain": [
              "<Figure size 1000x400 with 1 Axes>"
            ],
            "image/png": "[encoded data removed]"
          },
          "metadata": {}
        }
      ]
    },
    {
      "cell_type": "code",
      "source": [],
      "metadata": {
        "id": "xjZKjRJLES7X"
      },
      "execution_count": null,
      "outputs": []
    },
    {
      "cell_type": "code",
      "source": [],
      "metadata": {
        "id": "31wxtcnWES95"
      },
      "execution_count": null,
      "outputs": []
    },
    {
      "cell_type": "code",
      "source": [],
      "metadata": {
        "id": "Tpha17ShETAh"
      },
      "execution_count": null,
      "outputs": []
    },
    {
      "cell_type": "code",
      "source": [],
      "metadata": {
        "id": "Nyw-mLqyETDR"
      },
      "execution_count": null,
      "outputs": []
    },
    {
      "cell_type": "markdown",
      "source": [],
      "metadata": {
        "id": "jgoqZIRUGNaH"
      }
    },
    {
      "cell_type": "code",
      "source": [],
      "metadata": {
        "id": "3M18EiStETGA"
      },
      "execution_count": null,
      "outputs": []
    },
    {
      "cell_type": "code",
      "source": [],
      "metadata": {
        "id": "rqJ_J2D3ETIX"
      },
      "execution_count": null,
      "outputs": []
    },
    {
      "cell_type": "code",
      "source": [],
      "metadata": {
        "id": "4_yDWpJ2ETM_"
      },
      "execution_count": null,
      "outputs": []
    },
    {
      "cell_type": "code",
      "source": [],
      "metadata": {
        "id": "wNkEqCP6ETPz"
      },
      "execution_count": null,
      "outputs": []
    },
    {
      "cell_type": "code",
      "source": [],
      "metadata": {
        "id": "-IkW-XOrETSQ"
      },
      "execution_count": null,
      "outputs": []
    },
    {
      "cell_type": "code",
      "source": [],
      "metadata": {
        "id": "9cYwwLMbETU0"
      },
      "execution_count": null,
      "outputs": []
    },
    {
      "cell_type": "code",
      "source": [],
      "metadata": {
        "id": "LOPW0JaBETXL"
      },
      "execution_count": null,
      "outputs": []
    },
    {
      "cell_type": "code",
      "source": [],
      "metadata": {
        "id": "GOTgWbLUETZu"
      },
      "execution_count": null,
      "outputs": []
    }
  ]
}