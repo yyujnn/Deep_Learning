{
  "nbformat": 4,
  "nbformat_minor": 0,
  "metadata": {
    "colab": {
      "provenance": [],
      "authorship_tag": "ABX9TyMrs/0MhrTWdo4dpnil7Rvs",
      "include_colab_link": true
    },
    "kernelspec": {
      "name": "python3",
      "display_name": "Python 3"
    },
    "language_info": {
      "name": "python"
    }
  },
  "cells": [
    {
      "cell_type": "markdown",
      "metadata": {
        "id": "view-in-github",
        "colab_type": "text"
      },
      "source": [
        "<a href=\"https://colab.research.google.com/github/yyujnn/Deep_Learning/blob/main/ex03_iris%EB%8D%B0%EC%9D%B4%ED%84%B0%ED%99%9C%EC%9A%A9_%EB%8B%A4%EC%A4%91%EB%B6%84%EB%A5%98%EC%8B%A4%EC%8A%B5.ipynb\" target=\"_parent\"><img src=\"https://colab.research.google.com/assets/colab-badge.svg\" alt=\"Open In Colab\"/></a>"
      ]
    },
    {
      "cell_type": "code",
      "execution_count": null,
      "metadata": {
        "id": "cjwUdQkSOZpS"
      },
      "outputs": [],
      "source": [
        "# ex03_iris데이터활용_다중분류실습.ipynb"
      ]
    },
    {
      "cell_type": "markdown",
      "source": [
        "### 목표\n",
        "- iris 데이터 활용해서 붓꽃 품종으 분류해보자\n",
        "- 신경망에서 다중분류 학습하는 모델을 설계해보자"
      ],
      "metadata": {
        "id": "kgrlRPWFOwh8"
      }
    },
    {
      "cell_type": "code",
      "source": [
        "# 환경셋팅\n",
        "import numpy as np\n",
        "import pandas as pd\n",
        "import matplotlib.pyplot as plt\n",
        "from sklearn.datasets import load_iris\n",
        "from sklearn.model_selection import train_test_split"
      ],
      "metadata": {
        "id": "ByNWc3_dOwkU"
      },
      "execution_count": null,
      "outputs": []
    },
    {
      "cell_type": "code",
      "source": [
        "# 데이터 살펴보기\n",
        "data = load_iris()\n",
        "# bunch 객체 - 데이터의 묶음\n",
        "# {키 : 값}\n",
        "# 키 값을 확인\n",
        "data.keys()\n",
        "\n",
        "# 번치객체 - data, target (필수)\n",
        "# target_names, feature_names, ...(옵션)\n"
      ],
      "metadata": {
        "colab": {
          "base_uri": "https://localhost:8080/"
        },
        "id": "75xfJeWtOwpE",
        "outputId": "b94356bd-e46f-4ef4-e349-e39d657aa99b"
      },
      "execution_count": null,
      "outputs": [
        {
          "output_type": "execute_result",
          "data": {
            "text/plain": [
              "dict_keys(['data', 'target', 'frame', 'target_names', 'DESCR', 'feature_names', 'filename', 'data_module'])"
            ]
          },
          "metadata": {},
          "execution_count": 3
        }
      ]
    },
    {
      "cell_type": "code",
      "source": [
        "# 특성 확인\n",
        "data.feature_names\n",
        "# ['sepal length (cm)', 꽃받침의 길이\n",
        "#   'sepal width (cm)' 꽃받침의 너비\n",
        "#   'sepal width (cm)' 꽃잎의 길이\n",
        "#   'sepal width (cm)'] 꽃잎의 너비\n",
        "\n",
        "print('특성의 개수 : ', len(data.feature_names))\n",
        "# 딥러닝 입력층에 연결되는 특성의 개수는 4\n",
        "# 입력 차원(input_dim) 매개변수에 연결되어져야함"
      ],
      "metadata": {
        "colab": {
          "base_uri": "https://localhost:8080/"
        },
        "id": "k0eZ-CY3Owrs",
        "outputId": "c32add35-73e8-4b57-eb21-ba3f424c519f"
      },
      "execution_count": null,
      "outputs": [
        {
          "output_type": "stream",
          "name": "stdout",
          "text": [
            "특성의 개수 :  4\n"
          ]
        }
      ]
    },
    {
      "cell_type": "code",
      "source": [
        "# data 확인\n",
        "data.data # 데이터 타입 : float\n",
        "# data['data']"
      ],
      "metadata": {
        "colab": {
          "base_uri": "https://localhost:8080/"
        },
        "id": "NEuTuwl0OwuU",
        "outputId": "20b15741-8bdd-4c4c-81d4-f85e24defad7"
      },
      "execution_count": null,
      "outputs": [
        {
          "output_type": "execute_result",
          "data": {
            "text/plain": [
              "array([[5.1, 3.5, 1.4, 0.2],\n",
              "       [4.9, 3. , 1.4, 0.2],\n",
              "       [4.7, 3.2, 1.3, 0.2],\n",
              "       [4.6, 3.1, 1.5, 0.2],\n",
              "       [5. , 3.6, 1.4, 0.2],\n",
              "       [5.4, 3.9, 1.7, 0.4],\n",
              "       [4.6, 3.4, 1.4, 0.3],\n",
              "       [5. , 3.4, 1.5, 0.2],\n",
              "       [4.4, 2.9, 1.4, 0.2],\n",
              "       [4.9, 3.1, 1.5, 0.1],\n",
              "       [5.4, 3.7, 1.5, 0.2],\n",
              "       [4.8, 3.4, 1.6, 0.2],\n",
              "       [4.8, 3. , 1.4, 0.1],\n",
              "       [4.3, 3. , 1.1, 0.1],\n",
              "       [5.8, 4. , 1.2, 0.2],\n",
              "       [5.7, 4.4, 1.5, 0.4],\n",
              "       [5.4, 3.9, 1.3, 0.4],\n",
              "       [5.1, 3.5, 1.4, 0.3],\n",
              "       [5.7, 3.8, 1.7, 0.3],\n",
              "       [5.1, 3.8, 1.5, 0.3],\n",
              "       [5.4, 3.4, 1.7, 0.2],\n",
              "       [5.1, 3.7, 1.5, 0.4],\n",
              "       [4.6, 3.6, 1. , 0.2],\n",
              "       [5.1, 3.3, 1.7, 0.5],\n",
              "       [4.8, 3.4, 1.9, 0.2],\n",
              "       [5. , 3. , 1.6, 0.2],\n",
              "       [5. , 3.4, 1.6, 0.4],\n",
              "       [5.2, 3.5, 1.5, 0.2],\n",
              "       [5.2, 3.4, 1.4, 0.2],\n",
              "       [4.7, 3.2, 1.6, 0.2],\n",
              "       [4.8, 3.1, 1.6, 0.2],\n",
              "       [5.4, 3.4, 1.5, 0.4],\n",
              "       [5.2, 4.1, 1.5, 0.1],\n",
              "       [5.5, 4.2, 1.4, 0.2],\n",
              "       [4.9, 3.1, 1.5, 0.2],\n",
              "       [5. , 3.2, 1.2, 0.2],\n",
              "       [5.5, 3.5, 1.3, 0.2],\n",
              "       [4.9, 3.6, 1.4, 0.1],\n",
              "       [4.4, 3. , 1.3, 0.2],\n",
              "       [5.1, 3.4, 1.5, 0.2],\n",
              "       [5. , 3.5, 1.3, 0.3],\n",
              "       [4.5, 2.3, 1.3, 0.3],\n",
              "       [4.4, 3.2, 1.3, 0.2],\n",
              "       [5. , 3.5, 1.6, 0.6],\n",
              "       [5.1, 3.8, 1.9, 0.4],\n",
              "       [4.8, 3. , 1.4, 0.3],\n",
              "       [5.1, 3.8, 1.6, 0.2],\n",
              "       [4.6, 3.2, 1.4, 0.2],\n",
              "       [5.3, 3.7, 1.5, 0.2],\n",
              "       [5. , 3.3, 1.4, 0.2],\n",
              "       [7. , 3.2, 4.7, 1.4],\n",
              "       [6.4, 3.2, 4.5, 1.5],\n",
              "       [6.9, 3.1, 4.9, 1.5],\n",
              "       [5.5, 2.3, 4. , 1.3],\n",
              "       [6.5, 2.8, 4.6, 1.5],\n",
              "       [5.7, 2.8, 4.5, 1.3],\n",
              "       [6.3, 3.3, 4.7, 1.6],\n",
              "       [4.9, 2.4, 3.3, 1. ],\n",
              "       [6.6, 2.9, 4.6, 1.3],\n",
              "       [5.2, 2.7, 3.9, 1.4],\n",
              "       [5. , 2. , 3.5, 1. ],\n",
              "       [5.9, 3. , 4.2, 1.5],\n",
              "       [6. , 2.2, 4. , 1. ],\n",
              "       [6.1, 2.9, 4.7, 1.4],\n",
              "       [5.6, 2.9, 3.6, 1.3],\n",
              "       [6.7, 3.1, 4.4, 1.4],\n",
              "       [5.6, 3. , 4.5, 1.5],\n",
              "       [5.8, 2.7, 4.1, 1. ],\n",
              "       [6.2, 2.2, 4.5, 1.5],\n",
              "       [5.6, 2.5, 3.9, 1.1],\n",
              "       [5.9, 3.2, 4.8, 1.8],\n",
              "       [6.1, 2.8, 4. , 1.3],\n",
              "       [6.3, 2.5, 4.9, 1.5],\n",
              "       [6.1, 2.8, 4.7, 1.2],\n",
              "       [6.4, 2.9, 4.3, 1.3],\n",
              "       [6.6, 3. , 4.4, 1.4],\n",
              "       [6.8, 2.8, 4.8, 1.4],\n",
              "       [6.7, 3. , 5. , 1.7],\n",
              "       [6. , 2.9, 4.5, 1.5],\n",
              "       [5.7, 2.6, 3.5, 1. ],\n",
              "       [5.5, 2.4, 3.8, 1.1],\n",
              "       [5.5, 2.4, 3.7, 1. ],\n",
              "       [5.8, 2.7, 3.9, 1.2],\n",
              "       [6. , 2.7, 5.1, 1.6],\n",
              "       [5.4, 3. , 4.5, 1.5],\n",
              "       [6. , 3.4, 4.5, 1.6],\n",
              "       [6.7, 3.1, 4.7, 1.5],\n",
              "       [6.3, 2.3, 4.4, 1.3],\n",
              "       [5.6, 3. , 4.1, 1.3],\n",
              "       [5.5, 2.5, 4. , 1.3],\n",
              "       [5.5, 2.6, 4.4, 1.2],\n",
              "       [6.1, 3. , 4.6, 1.4],\n",
              "       [5.8, 2.6, 4. , 1.2],\n",
              "       [5. , 2.3, 3.3, 1. ],\n",
              "       [5.6, 2.7, 4.2, 1.3],\n",
              "       [5.7, 3. , 4.2, 1.2],\n",
              "       [5.7, 2.9, 4.2, 1.3],\n",
              "       [6.2, 2.9, 4.3, 1.3],\n",
              "       [5.1, 2.5, 3. , 1.1],\n",
              "       [5.7, 2.8, 4.1, 1.3],\n",
              "       [6.3, 3.3, 6. , 2.5],\n",
              "       [5.8, 2.7, 5.1, 1.9],\n",
              "       [7.1, 3. , 5.9, 2.1],\n",
              "       [6.3, 2.9, 5.6, 1.8],\n",
              "       [6.5, 3. , 5.8, 2.2],\n",
              "       [7.6, 3. , 6.6, 2.1],\n",
              "       [4.9, 2.5, 4.5, 1.7],\n",
              "       [7.3, 2.9, 6.3, 1.8],\n",
              "       [6.7, 2.5, 5.8, 1.8],\n",
              "       [7.2, 3.6, 6.1, 2.5],\n",
              "       [6.5, 3.2, 5.1, 2. ],\n",
              "       [6.4, 2.7, 5.3, 1.9],\n",
              "       [6.8, 3. , 5.5, 2.1],\n",
              "       [5.7, 2.5, 5. , 2. ],\n",
              "       [5.8, 2.8, 5.1, 2.4],\n",
              "       [6.4, 3.2, 5.3, 2.3],\n",
              "       [6.5, 3. , 5.5, 1.8],\n",
              "       [7.7, 3.8, 6.7, 2.2],\n",
              "       [7.7, 2.6, 6.9, 2.3],\n",
              "       [6. , 2.2, 5. , 1.5],\n",
              "       [6.9, 3.2, 5.7, 2.3],\n",
              "       [5.6, 2.8, 4.9, 2. ],\n",
              "       [7.7, 2.8, 6.7, 2. ],\n",
              "       [6.3, 2.7, 4.9, 1.8],\n",
              "       [6.7, 3.3, 5.7, 2.1],\n",
              "       [7.2, 3.2, 6. , 1.8],\n",
              "       [6.2, 2.8, 4.8, 1.8],\n",
              "       [6.1, 3. , 4.9, 1.8],\n",
              "       [6.4, 2.8, 5.6, 2.1],\n",
              "       [7.2, 3. , 5.8, 1.6],\n",
              "       [7.4, 2.8, 6.1, 1.9],\n",
              "       [7.9, 3.8, 6.4, 2. ],\n",
              "       [6.4, 2.8, 5.6, 2.2],\n",
              "       [6.3, 2.8, 5.1, 1.5],\n",
              "       [6.1, 2.6, 5.6, 1.4],\n",
              "       [7.7, 3. , 6.1, 2.3],\n",
              "       [6.3, 3.4, 5.6, 2.4],\n",
              "       [6.4, 3.1, 5.5, 1.8],\n",
              "       [6. , 3. , 4.8, 1.8],\n",
              "       [6.9, 3.1, 5.4, 2.1],\n",
              "       [6.7, 3.1, 5.6, 2.4],\n",
              "       [6.9, 3.1, 5.1, 2.3],\n",
              "       [5.8, 2.7, 5.1, 1.9],\n",
              "       [6.8, 3.2, 5.9, 2.3],\n",
              "       [6.7, 3.3, 5.7, 2.5],\n",
              "       [6.7, 3. , 5.2, 2.3],\n",
              "       [6.3, 2.5, 5. , 1.9],\n",
              "       [6.5, 3. , 5.2, 2. ],\n",
              "       [6.2, 3.4, 5.4, 2.3],\n",
              "       [5.9, 3. , 5.1, 1.8]])"
            ]
          },
          "metadata": {},
          "execution_count": 6
        }
      ]
    },
    {
      "cell_type": "code",
      "source": [
        "# 답 데이터 이름 확인\n",
        "data.target_names\n",
        "# ['setosa', 'versicolor', 'virginica']\n",
        "print('클래스의 개수는?', data.target_names.size)\n",
        "# 딥러닝 출력층 각 클래스에 대한 확률\n",
        "# 출력층 퍼셉트론 개수 클래스의 개수만큼 설정\n",
        "# 퍼셉트론 : units"
      ],
      "metadata": {
        "colab": {
          "base_uri": "https://localhost:8080/"
        },
        "id": "6I7Ip6SYOwws",
        "outputId": "26cbe881-b6b2-44b7-be06-6ad05d69e0d4"
      },
      "execution_count": null,
      "outputs": [
        {
          "output_type": "stream",
          "name": "stdout",
          "text": [
            "클래스의 개수는? 3\n"
          ]
        }
      ]
    },
    {
      "cell_type": "code",
      "source": [
        "# 답 형식 확인\n",
        "data.target\n",
        "# ['setosa'-0, 'versicolor'-1, 'virginica'-2]\n",
        "# 랜덤샘플링 -> train_test_split 1. 무작위로 섞음 2. train, test 분리"
      ],
      "metadata": {
        "colab": {
          "base_uri": "https://localhost:8080/"
        },
        "id": "WyFX6Yu5Owzc",
        "outputId": "30286692-1794-47ca-be5e-31dbfca8645f"
      },
      "execution_count": null,
      "outputs": [
        {
          "output_type": "execute_result",
          "data": {
            "text/plain": [
              "array([0, 0, 0, 0, 0, 0, 0, 0, 0, 0, 0, 0, 0, 0, 0, 0, 0, 0, 0, 0, 0, 0,\n",
              "       0, 0, 0, 0, 0, 0, 0, 0, 0, 0, 0, 0, 0, 0, 0, 0, 0, 0, 0, 0, 0, 0,\n",
              "       0, 0, 0, 0, 0, 0, 1, 1, 1, 1, 1, 1, 1, 1, 1, 1, 1, 1, 1, 1, 1, 1,\n",
              "       1, 1, 1, 1, 1, 1, 1, 1, 1, 1, 1, 1, 1, 1, 1, 1, 1, 1, 1, 1, 1, 1,\n",
              "       1, 1, 1, 1, 1, 1, 1, 1, 1, 1, 1, 1, 2, 2, 2, 2, 2, 2, 2, 2, 2, 2,\n",
              "       2, 2, 2, 2, 2, 2, 2, 2, 2, 2, 2, 2, 2, 2, 2, 2, 2, 2, 2, 2, 2, 2,\n",
              "       2, 2, 2, 2, 2, 2, 2, 2, 2, 2, 2, 2, 2, 2, 2, 2, 2, 2])"
            ]
          },
          "metadata": {},
          "execution_count": 8
        }
      ]
    },
    {
      "cell_type": "code",
      "source": [
        "# 훈련, 테스트 데이터 분리\n",
        "# 8:2\n",
        "# 3\n",
        "X_train, X_test, y_train, y_test = train_test_split(data.data, data.target,\n",
        "                                                    test_size=0.2,\n",
        "                                                    random_state=3)\n",
        "print('훈련용 데이터', X_train.shape, y_train.shape)\n",
        "print('테스트 데이터', X_test.shape, y_test.shape)"
      ],
      "metadata": {
        "colab": {
          "base_uri": "https://localhost:8080/"
        },
        "id": "qdPWTveUOw1_",
        "outputId": "5d0a637a-2ec5-427a-e415-90ca6a395be8"
      },
      "execution_count": null,
      "outputs": [
        {
          "output_type": "stream",
          "name": "stdout",
          "text": [
            "훈련용 데이터 (120, 4) (120,)\n",
            "테스트 데이터 (30, 4) (30,)\n"
          ]
        }
      ]
    },
    {
      "cell_type": "code",
      "source": [
        "# 답 데이터 원핫인코딩\n",
        "y_train_oh = pd.get_dummies(y_train) # 더미변수 생성, 원핫인코딩 기능(함수)\n",
        "y_test_oh = pd.get_dummies(y_test)\n",
        "# pandas 원핫인코딩 함수 => pd.get_dummies() * 판다스 객체 출력\n",
        "# keras 제공 원핫인코딩 함수 => to_categorical() * ndarray 출력\n",
        "# from tensorflow.keras.units import to_categorical\n",
        "\n",
        "# 크기확인\n",
        "print(y_train_oh.shape)\n",
        "print(y_test_oh.shape)"
      ],
      "metadata": {
        "colab": {
          "base_uri": "https://localhost:8080/"
        },
        "id": "z7rTRbaBTKJy",
        "outputId": "d50660d4-c06c-4a1f-904d-eb602c8b5a92"
      },
      "execution_count": null,
      "outputs": [
        {
          "output_type": "stream",
          "name": "stdout",
          "text": [
            "(120, 3)\n",
            "(30, 3)\n"
          ]
        }
      ]
    },
    {
      "cell_type": "code",
      "source": [
        "y_train_oh"
      ],
      "metadata": {
        "colab": {
          "base_uri": "https://localhost:8080/",
          "height": 424
        },
        "id": "jWtpa5APTKMZ",
        "outputId": "11c38673-948a-4c9d-e9f5-89e8a2987ccc"
      },
      "execution_count": null,
      "outputs": [
        {
          "output_type": "execute_result",
          "data": {
            "text/plain": [
              "     0  1  2\n",
              "0    1  0  0\n",
              "1    1  0  0\n",
              "2    0  0  1\n",
              "3    0  1  0\n",
              "4    1  0  0\n",
              "..  .. .. ..\n",
              "115  0  0  1\n",
              "116  1  0  0\n",
              "117  1  0  0\n",
              "118  0  0  1\n",
              "119  0  0  1\n",
              "\n",
              "[120 rows x 3 columns]"
            ],
            "text/html": [
              "\n",
              "  <div id=\"df-261c51d4-3ae9-42ab-972b-7ef2808f0024\">\n",
              "    <div class=\"colab-df-container\">\n",
              "      <div>\n",
              "<style scoped>\n",
              "    .dataframe tbody tr th:only-of-type {\n",
              "        vertical-align: middle;\n",
              "    }\n",
              "\n",
              "    .dataframe tbody tr th {\n",
              "        vertical-align: top;\n",
              "    }\n",
              "\n",
              "    .dataframe thead th {\n",
              "        text-align: right;\n",
              "    }\n",
              "</style>\n",
              "<table border=\"1\" class=\"dataframe\">\n",
              "  <thead>\n",
              "    <tr style=\"text-align: right;\">\n",
              "      <th></th>\n",
              "      <th>0</th>\n",
              "      <th>1</th>\n",
              "      <th>2</th>\n",
              "    </tr>\n",
              "  </thead>\n",
              "  <tbody>\n",
              "    <tr>\n",
              "      <th>0</th>\n",
              "      <td>1</td>\n",
              "      <td>0</td>\n",
              "      <td>0</td>\n",
              "    </tr>\n",
              "    <tr>\n",
              "      <th>1</th>\n",
              "      <td>1</td>\n",
              "      <td>0</td>\n",
              "      <td>0</td>\n",
              "    </tr>\n",
              "    <tr>\n",
              "      <th>2</th>\n",
              "      <td>0</td>\n",
              "      <td>0</td>\n",
              "      <td>1</td>\n",
              "    </tr>\n",
              "    <tr>\n",
              "      <th>3</th>\n",
              "      <td>0</td>\n",
              "      <td>1</td>\n",
              "      <td>0</td>\n",
              "    </tr>\n",
              "    <tr>\n",
              "      <th>4</th>\n",
              "      <td>1</td>\n",
              "      <td>0</td>\n",
              "      <td>0</td>\n",
              "    </tr>\n",
              "    <tr>\n",
              "      <th>...</th>\n",
              "      <td>...</td>\n",
              "      <td>...</td>\n",
              "      <td>...</td>\n",
              "    </tr>\n",
              "    <tr>\n",
              "      <th>115</th>\n",
              "      <td>0</td>\n",
              "      <td>0</td>\n",
              "      <td>1</td>\n",
              "    </tr>\n",
              "    <tr>\n",
              "      <th>116</th>\n",
              "      <td>1</td>\n",
              "      <td>0</td>\n",
              "      <td>0</td>\n",
              "    </tr>\n",
              "    <tr>\n",
              "      <th>117</th>\n",
              "      <td>1</td>\n",
              "      <td>0</td>\n",
              "      <td>0</td>\n",
              "    </tr>\n",
              "    <tr>\n",
              "      <th>118</th>\n",
              "      <td>0</td>\n",
              "      <td>0</td>\n",
              "      <td>1</td>\n",
              "    </tr>\n",
              "    <tr>\n",
              "      <th>119</th>\n",
              "      <td>0</td>\n",
              "      <td>0</td>\n",
              "      <td>1</td>\n",
              "    </tr>\n",
              "  </tbody>\n",
              "</table>\n",
              "<p>120 rows × 3 columns</p>\n",
              "</div>\n",
              "      <button class=\"colab-df-convert\" onclick=\"convertToInteractive('df-261c51d4-3ae9-42ab-972b-7ef2808f0024')\"\n",
              "              title=\"Convert this dataframe to an interactive table.\"\n",
              "              style=\"display:none;\">\n",
              "        \n",
              "  <svg xmlns=\"http://www.w3.org/2000/svg\" height=\"24px\"viewBox=\"0 0 24 24\"\n",
              "       width=\"24px\">\n",
              "    <path d=\"M0 0h24v24H0V0z\" fill=\"none\"/>\n",
              "    <path d=\"M18.56 5.44l.94 2.06.94-2.06 2.06-.94-2.06-.94-.94-2.06-.94 2.06-2.06.94zm-11 1L8.5 8.5l.94-2.06 2.06-.94-2.06-.94L8.5 2.5l-.94 2.06-2.06.94zm10 10l.94 2.06.94-2.06 2.06-.94-2.06-.94-.94-2.06-.94 2.06-2.06.94z\"/><path d=\"M17.41 7.96l-1.37-1.37c-.4-.4-.92-.59-1.43-.59-.52 0-1.04.2-1.43.59L10.3 9.45l-7.72 7.72c-.78.78-.78 2.05 0 2.83L4 21.41c.39.39.9.59 1.41.59.51 0 1.02-.2 1.41-.59l7.78-7.78 2.81-2.81c.8-.78.8-2.07 0-2.86zM5.41 20L4 18.59l7.72-7.72 1.47 1.35L5.41 20z\"/>\n",
              "  </svg>\n",
              "      </button>\n",
              "      \n",
              "  <style>\n",
              "    .colab-df-container {\n",
              "      display:flex;\n",
              "      flex-wrap:wrap;\n",
              "      gap: 12px;\n",
              "    }\n",
              "\n",
              "    .colab-df-convert {\n",
              "      background-color: #E8F0FE;\n",
              "      border: none;\n",
              "      border-radius: 50%;\n",
              "      cursor: pointer;\n",
              "      display: none;\n",
              "      fill: #1967D2;\n",
              "      height: 32px;\n",
              "      padding: 0 0 0 0;\n",
              "      width: 32px;\n",
              "    }\n",
              "\n",
              "    .colab-df-convert:hover {\n",
              "      background-color: #E2EBFA;\n",
              "      box-shadow: 0px 1px 2px rgba(60, 64, 67, 0.3), 0px 1px 3px 1px rgba(60, 64, 67, 0.15);\n",
              "      fill: #174EA6;\n",
              "    }\n",
              "\n",
              "    [theme=dark] .colab-df-convert {\n",
              "      background-color: #3B4455;\n",
              "      fill: #D2E3FC;\n",
              "    }\n",
              "\n",
              "    [theme=dark] .colab-df-convert:hover {\n",
              "      background-color: #434B5C;\n",
              "      box-shadow: 0px 1px 3px 1px rgba(0, 0, 0, 0.15);\n",
              "      filter: drop-shadow(0px 1px 2px rgba(0, 0, 0, 0.3));\n",
              "      fill: #FFFFFF;\n",
              "    }\n",
              "  </style>\n",
              "\n",
              "      <script>\n",
              "        const buttonEl =\n",
              "          document.querySelector('#df-261c51d4-3ae9-42ab-972b-7ef2808f0024 button.colab-df-convert');\n",
              "        buttonEl.style.display =\n",
              "          google.colab.kernel.accessAllowed ? 'block' : 'none';\n",
              "\n",
              "        async function convertToInteractive(key) {\n",
              "          const element = document.querySelector('#df-261c51d4-3ae9-42ab-972b-7ef2808f0024');\n",
              "          const dataTable =\n",
              "            await google.colab.kernel.invokeFunction('convertToInteractive',\n",
              "                                                     [key], {});\n",
              "          if (!dataTable) return;\n",
              "\n",
              "          const docLinkHtml = 'Like what you see? Visit the ' +\n",
              "            '<a target=\"_blank\" href=https://colab.research.google.com/notebooks/data_table.ipynb>data table notebook</a>'\n",
              "            + ' to learn more about interactive tables.';\n",
              "          element.innerHTML = '';\n",
              "          dataTable['output_type'] = 'display_data';\n",
              "          await google.colab.output.renderOutput(dataTable, element);\n",
              "          const docLink = document.createElement('div');\n",
              "          docLink.innerHTML = docLinkHtml;\n",
              "          element.appendChild(docLink);\n",
              "        }\n",
              "      </script>\n",
              "    </div>\n",
              "  </div>\n",
              "  "
            ]
          },
          "metadata": {},
          "execution_count": 15
        }
      ]
    },
    {
      "cell_type": "markdown",
      "source": [
        "#### keras 활용 인공신경망 생성\n",
        "  - 1. 신경망 구조 설계\n",
        "    - 뼈대 구축, 층 내용 정의\n",
        "  - 2. 학습/평가 방법 설정\n",
        "    - 다중 분류에 맞춰서\n",
        "  - 3. 학습 및 시각화\n",
        "  - 4. 모델 평가 및 예측"
      ],
      "metadata": {
        "id": "sMNap-JHTKPh"
      }
    },
    {
      "cell_type": "code",
      "source": [
        "from ast import mod\n",
        "from tensorflow.keras import Sequential\n",
        "from tensorflow.keras.layers import Dense\n",
        "\n",
        "# 1. 신경망 뼈대 구축\n",
        "model = Sequential()\n",
        "\n",
        "# 입력층 + 중간층 1 설정\n",
        "# 뉴런 16, 입력 특성 개수 4개, 활성화 sigmoid\n",
        "model.add(Dense(units=16, input_dim = 4, activation = 'relu'))\n",
        "# sigmoid가 학습에 영향을 잘 못 줌 -> 성능 개선이 잘 안됨 relu로 바꿔줌\n",
        "\n",
        "# 중간층 2개\n",
        "# 32, 활성화 sigmoid\n",
        "# 10, 활성화 sigmoid\n",
        "model.add(Dense(units=32, activation = 'relu'))\n",
        "model.add(Dense(units=10, activation = 'relu'))\n",
        "\n",
        "# 출력층\n",
        "# 다중 분류 :\n",
        "# class 3개 -> 출력층 유닛 개수 3개\n",
        "# 활성화 softmax\n",
        "model.add(Dense(units=3, activation = 'softmax'))\n",
        "\n",
        "# 모델 요약 정보\n",
        "model.summary()"
      ],
      "metadata": {
        "colab": {
          "base_uri": "https://localhost:8080/"
        },
        "id": "7DdJ4peUTKSZ",
        "outputId": "f4c69688-c4f8-4534-8734-549f1e23ac63"
      },
      "execution_count": null,
      "outputs": [
        {
          "output_type": "stream",
          "name": "stdout",
          "text": [
            "Model: \"sequential_1\"\n",
            "_________________________________________________________________\n",
            " Layer (type)                Output Shape              Param #   \n",
            "=================================================================\n",
            " dense_4 (Dense)             (None, 16)                80        \n",
            "                                                                 \n",
            " dense_5 (Dense)             (None, 32)                544       \n",
            "                                                                 \n",
            " dense_6 (Dense)             (None, 10)                330       \n",
            "                                                                 \n",
            " dense_7 (Dense)             (None, 3)                 33        \n",
            "                                                                 \n",
            "=================================================================\n",
            "Total params: 987\n",
            "Trainable params: 987\n",
            "Non-trainable params: 0\n",
            "_________________________________________________________________\n"
          ]
        }
      ]
    },
    {
      "cell_type": "code",
      "source": [
        "# 2. 학습/평가 방법 설정\n",
        "# compile(loss 오차계산, optimizer 최적화함수 : w/b의 위치를 변경, metrics 평가지표)\n",
        "model.compile(loss = 'categorical_crossentropy',\n",
        "              optimizer = 'adam',  # 경사하강법 종류 중 1 - 확률적 경사하강\n",
        "              # 좋은 w,b 를 찾아내는 힘이 부족할 수 있음\n",
        "              metrics = ['accuracy'] ) # 평가지표 정확도"
      ],
      "metadata": {
        "id": "pw7HSrP3TKVC"
      },
      "execution_count": null,
      "outputs": []
    },
    {
      "cell_type": "code",
      "source": [
        "# 3. 학습 및 시각화\n",
        "# 훈련 문제, 훈련답, 200\n",
        "h2 = model.fit(X_train, y_train_oh, epochs=200)"
      ],
      "metadata": {
        "colab": {
          "base_uri": "https://localhost:8080/"
        },
        "id": "OEKx7qZpTKX5",
        "outputId": "fa0c4259-71c9-4634-c8bd-329b75b937ae"
      },
      "execution_count": null,
      "outputs": [
        {
          "output_type": "stream",
          "name": "stdout",
          "text": [
            "Epoch 1/200\n",
            "4/4 [==============================] - 2s 5ms/step - loss: 1.3308 - accuracy: 0.3333\n",
            "Epoch 2/200\n",
            "4/4 [==============================] - 0s 8ms/step - loss: 1.2214 - accuracy: 0.3333\n",
            "Epoch 3/200\n",
            "4/4 [==============================] - 0s 4ms/step - loss: 1.1360 - accuracy: 0.3333\n",
            "Epoch 4/200\n",
            "4/4 [==============================] - 0s 5ms/step - loss: 1.0723 - accuracy: 0.3333\n",
            "Epoch 5/200\n",
            "4/4 [==============================] - 0s 6ms/step - loss: 1.0236 - accuracy: 0.3333\n",
            "Epoch 6/200\n",
            "4/4 [==============================] - 0s 4ms/step - loss: 0.9899 - accuracy: 0.4917\n",
            "Epoch 7/200\n",
            "4/4 [==============================] - 0s 4ms/step - loss: 0.9619 - accuracy: 0.6667\n",
            "Epoch 8/200\n",
            "4/4 [==============================] - 0s 4ms/step - loss: 0.9468 - accuracy: 0.6250\n",
            "Epoch 9/200\n",
            "4/4 [==============================] - 0s 4ms/step - loss: 0.9300 - accuracy: 0.6167\n",
            "Epoch 10/200\n",
            "4/4 [==============================] - 0s 7ms/step - loss: 0.9152 - accuracy: 0.6667\n",
            "Epoch 11/200\n",
            "4/4 [==============================] - 0s 5ms/step - loss: 0.8990 - accuracy: 0.6667\n",
            "Epoch 12/200\n",
            "4/4 [==============================] - 0s 5ms/step - loss: 0.8828 - accuracy: 0.6667\n",
            "Epoch 13/200\n",
            "4/4 [==============================] - 0s 5ms/step - loss: 0.8670 - accuracy: 0.6667\n",
            "Epoch 14/200\n",
            "4/4 [==============================] - 0s 4ms/step - loss: 0.8503 - accuracy: 0.6583\n",
            "Epoch 15/200\n",
            "4/4 [==============================] - 0s 4ms/step - loss: 0.8335 - accuracy: 0.7500\n",
            "Epoch 16/200\n",
            "4/4 [==============================] - 0s 6ms/step - loss: 0.8164 - accuracy: 0.8000\n",
            "Epoch 17/200\n",
            "4/4 [==============================] - 0s 4ms/step - loss: 0.7981 - accuracy: 0.7500\n",
            "Epoch 18/200\n",
            "4/4 [==============================] - 0s 4ms/step - loss: 0.7800 - accuracy: 0.8500\n",
            "Epoch 19/200\n",
            "4/4 [==============================] - 0s 4ms/step - loss: 0.7602 - accuracy: 0.8917\n",
            "Epoch 20/200\n",
            "4/4 [==============================] - 0s 4ms/step - loss: 0.7412 - accuracy: 0.9000\n",
            "Epoch 21/200\n",
            "4/4 [==============================] - 0s 4ms/step - loss: 0.7216 - accuracy: 0.9000\n",
            "Epoch 22/200\n",
            "4/4 [==============================] - 0s 6ms/step - loss: 0.7011 - accuracy: 0.9000\n",
            "Epoch 23/200\n",
            "4/4 [==============================] - 0s 4ms/step - loss: 0.6822 - accuracy: 0.8417\n",
            "Epoch 24/200\n",
            "4/4 [==============================] - 0s 4ms/step - loss: 0.6627 - accuracy: 0.8083\n",
            "Epoch 25/200\n",
            "4/4 [==============================] - 0s 4ms/step - loss: 0.6431 - accuracy: 0.8667\n",
            "Epoch 26/200\n",
            "4/4 [==============================] - 0s 4ms/step - loss: 0.6247 - accuracy: 0.9417\n",
            "Epoch 27/200\n",
            "4/4 [==============================] - 0s 5ms/step - loss: 0.6058 - accuracy: 0.9250\n",
            "Epoch 28/200\n",
            "4/4 [==============================] - 0s 5ms/step - loss: 0.5879 - accuracy: 0.9250\n",
            "Epoch 29/200\n",
            "4/4 [==============================] - 0s 5ms/step - loss: 0.5715 - accuracy: 0.9000\n",
            "Epoch 30/200\n",
            "4/4 [==============================] - 0s 5ms/step - loss: 0.5546 - accuracy: 0.8667\n",
            "Epoch 31/200\n",
            "4/4 [==============================] - 0s 5ms/step - loss: 0.5387 - accuracy: 0.8750\n",
            "Epoch 32/200\n",
            "4/4 [==============================] - 0s 4ms/step - loss: 0.5235 - accuracy: 0.8833\n",
            "Epoch 33/200\n",
            "4/4 [==============================] - 0s 4ms/step - loss: 0.5093 - accuracy: 0.8833\n",
            "Epoch 34/200\n",
            "4/4 [==============================] - 0s 6ms/step - loss: 0.4953 - accuracy: 0.9000\n",
            "Epoch 35/200\n",
            "4/4 [==============================] - 0s 5ms/step - loss: 0.4806 - accuracy: 0.9167\n",
            "Epoch 36/200\n",
            "4/4 [==============================] - 0s 5ms/step - loss: 0.4653 - accuracy: 0.9167\n",
            "Epoch 37/200\n",
            "4/4 [==============================] - 0s 5ms/step - loss: 0.4507 - accuracy: 0.9500\n",
            "Epoch 38/200\n",
            "4/4 [==============================] - 0s 5ms/step - loss: 0.4362 - accuracy: 0.9500\n",
            "Epoch 39/200\n",
            "4/4 [==============================] - 0s 5ms/step - loss: 0.4228 - accuracy: 0.9500\n",
            "Epoch 40/200\n",
            "4/4 [==============================] - 0s 4ms/step - loss: 0.4101 - accuracy: 0.9500\n",
            "Epoch 41/200\n",
            "4/4 [==============================] - 0s 4ms/step - loss: 0.3982 - accuracy: 0.9667\n",
            "Epoch 42/200\n",
            "4/4 [==============================] - 0s 4ms/step - loss: 0.3877 - accuracy: 0.9667\n",
            "Epoch 43/200\n",
            "4/4 [==============================] - 0s 5ms/step - loss: 0.3758 - accuracy: 0.9667\n",
            "Epoch 44/200\n",
            "4/4 [==============================] - 0s 4ms/step - loss: 0.3649 - accuracy: 0.9667\n",
            "Epoch 45/200\n",
            "4/4 [==============================] - 0s 5ms/step - loss: 0.3534 - accuracy: 0.9750\n",
            "Epoch 46/200\n",
            "4/4 [==============================] - 0s 5ms/step - loss: 0.3452 - accuracy: 0.9667\n",
            "Epoch 47/200\n",
            "4/4 [==============================] - 0s 5ms/step - loss: 0.3328 - accuracy: 0.9667\n",
            "Epoch 48/200\n",
            "4/4 [==============================] - 0s 5ms/step - loss: 0.3234 - accuracy: 0.9667\n",
            "Epoch 49/200\n",
            "4/4 [==============================] - 0s 5ms/step - loss: 0.3164 - accuracy: 0.9583\n",
            "Epoch 50/200\n",
            "4/4 [==============================] - 0s 5ms/step - loss: 0.3051 - accuracy: 0.9750\n",
            "Epoch 51/200\n",
            "4/4 [==============================] - 0s 5ms/step - loss: 0.2989 - accuracy: 0.9667\n",
            "Epoch 52/200\n",
            "4/4 [==============================] - 0s 4ms/step - loss: 0.2906 - accuracy: 0.9667\n",
            "Epoch 53/200\n",
            "4/4 [==============================] - 0s 5ms/step - loss: 0.2804 - accuracy: 0.9750\n",
            "Epoch 54/200\n",
            "4/4 [==============================] - 0s 5ms/step - loss: 0.2734 - accuracy: 0.9667\n",
            "Epoch 55/200\n",
            "4/4 [==============================] - 0s 4ms/step - loss: 0.2663 - accuracy: 0.9667\n",
            "Epoch 56/200\n",
            "4/4 [==============================] - 0s 5ms/step - loss: 0.2577 - accuracy: 0.9667\n",
            "Epoch 57/200\n",
            "4/4 [==============================] - 0s 4ms/step - loss: 0.2516 - accuracy: 0.9750\n",
            "Epoch 58/200\n",
            "4/4 [==============================] - 0s 5ms/step - loss: 0.2430 - accuracy: 0.9750\n",
            "Epoch 59/200\n",
            "4/4 [==============================] - 0s 4ms/step - loss: 0.2345 - accuracy: 0.9750\n",
            "Epoch 60/200\n",
            "4/4 [==============================] - 0s 5ms/step - loss: 0.2283 - accuracy: 0.9750\n",
            "Epoch 61/200\n",
            "4/4 [==============================] - 0s 4ms/step - loss: 0.2213 - accuracy: 0.9750\n",
            "Epoch 62/200\n",
            "4/4 [==============================] - 0s 4ms/step - loss: 0.2147 - accuracy: 0.9750\n",
            "Epoch 63/200\n",
            "4/4 [==============================] - 0s 4ms/step - loss: 0.2097 - accuracy: 0.9750\n",
            "Epoch 64/200\n",
            "4/4 [==============================] - 0s 5ms/step - loss: 0.2036 - accuracy: 0.9750\n",
            "Epoch 65/200\n",
            "4/4 [==============================] - 0s 6ms/step - loss: 0.2003 - accuracy: 0.9750\n",
            "Epoch 66/200\n",
            "4/4 [==============================] - 0s 5ms/step - loss: 0.1937 - accuracy: 0.9750\n",
            "Epoch 67/200\n",
            "4/4 [==============================] - 0s 5ms/step - loss: 0.1879 - accuracy: 0.9750\n",
            "Epoch 68/200\n",
            "4/4 [==============================] - 0s 5ms/step - loss: 0.1828 - accuracy: 0.9750\n",
            "Epoch 69/200\n",
            "4/4 [==============================] - 0s 4ms/step - loss: 0.1784 - accuracy: 0.9750\n",
            "Epoch 70/200\n",
            "4/4 [==============================] - 0s 5ms/step - loss: 0.1741 - accuracy: 0.9750\n",
            "Epoch 71/200\n",
            "4/4 [==============================] - 0s 4ms/step - loss: 0.1712 - accuracy: 0.9750\n",
            "Epoch 72/200\n",
            "4/4 [==============================] - 0s 7ms/step - loss: 0.1711 - accuracy: 0.9750\n",
            "Epoch 73/200\n",
            "4/4 [==============================] - 0s 4ms/step - loss: 0.1624 - accuracy: 0.9750\n",
            "Epoch 74/200\n",
            "4/4 [==============================] - 0s 5ms/step - loss: 0.1611 - accuracy: 0.9667\n",
            "Epoch 75/200\n",
            "4/4 [==============================] - 0s 4ms/step - loss: 0.1565 - accuracy: 0.9667\n",
            "Epoch 76/200\n",
            "4/4 [==============================] - 0s 5ms/step - loss: 0.1511 - accuracy: 0.9750\n",
            "Epoch 77/200\n",
            "4/4 [==============================] - 0s 5ms/step - loss: 0.1535 - accuracy: 0.9750\n",
            "Epoch 78/200\n",
            "4/4 [==============================] - 0s 4ms/step - loss: 0.1474 - accuracy: 0.9750\n",
            "Epoch 79/200\n",
            "4/4 [==============================] - 0s 5ms/step - loss: 0.1443 - accuracy: 0.9750\n",
            "Epoch 80/200\n",
            "4/4 [==============================] - 0s 6ms/step - loss: 0.1425 - accuracy: 0.9750\n",
            "Epoch 81/200\n",
            "4/4 [==============================] - 0s 5ms/step - loss: 0.1378 - accuracy: 0.9750\n",
            "Epoch 82/200\n",
            "4/4 [==============================] - 0s 4ms/step - loss: 0.1355 - accuracy: 0.9750\n",
            "Epoch 83/200\n",
            "4/4 [==============================] - 0s 5ms/step - loss: 0.1336 - accuracy: 0.9750\n",
            "Epoch 84/200\n",
            "4/4 [==============================] - 0s 5ms/step - loss: 0.1311 - accuracy: 0.9750\n",
            "Epoch 85/200\n",
            "4/4 [==============================] - 0s 6ms/step - loss: 0.1290 - accuracy: 0.9750\n",
            "Epoch 86/200\n",
            "4/4 [==============================] - 0s 5ms/step - loss: 0.1269 - accuracy: 0.9750\n",
            "Epoch 87/200\n",
            "4/4 [==============================] - 0s 7ms/step - loss: 0.1285 - accuracy: 0.9750\n",
            "Epoch 88/200\n",
            "4/4 [==============================] - 0s 7ms/step - loss: 0.1256 - accuracy: 0.9750\n",
            "Epoch 89/200\n",
            "4/4 [==============================] - 0s 5ms/step - loss: 0.1211 - accuracy: 0.9833\n",
            "Epoch 90/200\n",
            "4/4 [==============================] - 0s 5ms/step - loss: 0.1203 - accuracy: 0.9833\n",
            "Epoch 91/200\n",
            "4/4 [==============================] - 0s 5ms/step - loss: 0.1178 - accuracy: 0.9750\n",
            "Epoch 92/200\n",
            "4/4 [==============================] - 0s 5ms/step - loss: 0.1171 - accuracy: 0.9833\n",
            "Epoch 93/200\n",
            "4/4 [==============================] - 0s 4ms/step - loss: 0.1176 - accuracy: 0.9667\n",
            "Epoch 94/200\n",
            "4/4 [==============================] - 0s 5ms/step - loss: 0.1121 - accuracy: 0.9833\n",
            "Epoch 95/200\n",
            "4/4 [==============================] - 0s 4ms/step - loss: 0.1140 - accuracy: 0.9750\n",
            "Epoch 96/200\n",
            "4/4 [==============================] - 0s 4ms/step - loss: 0.1108 - accuracy: 0.9750\n",
            "Epoch 97/200\n",
            "4/4 [==============================] - 0s 5ms/step - loss: 0.1091 - accuracy: 0.9667\n",
            "Epoch 98/200\n",
            "4/4 [==============================] - 0s 5ms/step - loss: 0.1097 - accuracy: 0.9750\n",
            "Epoch 99/200\n",
            "4/4 [==============================] - 0s 5ms/step - loss: 0.1075 - accuracy: 0.9750\n",
            "Epoch 100/200\n",
            "4/4 [==============================] - 0s 5ms/step - loss: 0.1071 - accuracy: 0.9750\n",
            "Epoch 101/200\n",
            "4/4 [==============================] - 0s 5ms/step - loss: 0.1043 - accuracy: 0.9833\n",
            "Epoch 102/200\n",
            "4/4 [==============================] - 0s 4ms/step - loss: 0.1032 - accuracy: 0.9833\n",
            "Epoch 103/200\n",
            "4/4 [==============================] - 0s 4ms/step - loss: 0.1025 - accuracy: 0.9833\n",
            "Epoch 104/200\n",
            "4/4 [==============================] - 0s 4ms/step - loss: 0.1018 - accuracy: 0.9833\n",
            "Epoch 105/200\n",
            "4/4 [==============================] - 0s 4ms/step - loss: 0.1021 - accuracy: 0.9833\n",
            "Epoch 106/200\n",
            "4/4 [==============================] - 0s 4ms/step - loss: 0.0991 - accuracy: 0.9833\n",
            "Epoch 107/200\n",
            "4/4 [==============================] - 0s 4ms/step - loss: 0.1024 - accuracy: 0.9750\n",
            "Epoch 108/200\n",
            "4/4 [==============================] - 0s 4ms/step - loss: 0.0977 - accuracy: 0.9750\n",
            "Epoch 109/200\n",
            "4/4 [==============================] - 0s 5ms/step - loss: 0.0990 - accuracy: 0.9750\n",
            "Epoch 110/200\n",
            "4/4 [==============================] - 0s 5ms/step - loss: 0.1020 - accuracy: 0.9750\n",
            "Epoch 111/200\n",
            "4/4 [==============================] - 0s 4ms/step - loss: 0.0956 - accuracy: 0.9750\n",
            "Epoch 112/200\n",
            "4/4 [==============================] - 0s 4ms/step - loss: 0.0948 - accuracy: 0.9750\n",
            "Epoch 113/200\n",
            "4/4 [==============================] - 0s 5ms/step - loss: 0.0933 - accuracy: 0.9833\n",
            "Epoch 114/200\n",
            "4/4 [==============================] - 0s 4ms/step - loss: 0.0939 - accuracy: 0.9833\n",
            "Epoch 115/200\n",
            "4/4 [==============================] - 0s 4ms/step - loss: 0.0933 - accuracy: 0.9750\n",
            "Epoch 116/200\n",
            "4/4 [==============================] - 0s 5ms/step - loss: 0.0921 - accuracy: 0.9750\n",
            "Epoch 117/200\n",
            "4/4 [==============================] - 0s 4ms/step - loss: 0.0905 - accuracy: 0.9833\n",
            "Epoch 118/200\n",
            "4/4 [==============================] - 0s 5ms/step - loss: 0.0919 - accuracy: 0.9750\n",
            "Epoch 119/200\n",
            "4/4 [==============================] - 0s 6ms/step - loss: 0.0895 - accuracy: 0.9833\n",
            "Epoch 120/200\n",
            "4/4 [==============================] - 0s 5ms/step - loss: 0.0917 - accuracy: 0.9750\n",
            "Epoch 121/200\n",
            "4/4 [==============================] - 0s 5ms/step - loss: 0.0875 - accuracy: 0.9750\n",
            "Epoch 122/200\n",
            "4/4 [==============================] - 0s 5ms/step - loss: 0.0905 - accuracy: 0.9833\n",
            "Epoch 123/200\n",
            "4/4 [==============================] - 0s 5ms/step - loss: 0.0895 - accuracy: 0.9750\n",
            "Epoch 124/200\n",
            "4/4 [==============================] - 0s 5ms/step - loss: 0.0882 - accuracy: 0.9833\n",
            "Epoch 125/200\n",
            "4/4 [==============================] - 0s 5ms/step - loss: 0.0887 - accuracy: 0.9750\n",
            "Epoch 126/200\n",
            "4/4 [==============================] - 0s 8ms/step - loss: 0.0879 - accuracy: 0.9833\n",
            "Epoch 127/200\n",
            "4/4 [==============================] - 0s 4ms/step - loss: 0.0850 - accuracy: 0.9833\n",
            "Epoch 128/200\n",
            "4/4 [==============================] - 0s 7ms/step - loss: 0.0859 - accuracy: 0.9750\n",
            "Epoch 129/200\n",
            "4/4 [==============================] - 0s 6ms/step - loss: 0.0840 - accuracy: 0.9750\n",
            "Epoch 130/200\n",
            "4/4 [==============================] - 0s 4ms/step - loss: 0.0834 - accuracy: 0.9833\n",
            "Epoch 131/200\n",
            "4/4 [==============================] - 0s 5ms/step - loss: 0.0849 - accuracy: 0.9833\n",
            "Epoch 132/200\n",
            "4/4 [==============================] - 0s 5ms/step - loss: 0.0826 - accuracy: 0.9833\n",
            "Epoch 133/200\n",
            "4/4 [==============================] - 0s 4ms/step - loss: 0.0826 - accuracy: 0.9750\n",
            "Epoch 134/200\n",
            "4/4 [==============================] - 0s 5ms/step - loss: 0.0828 - accuracy: 0.9750\n",
            "Epoch 135/200\n",
            "4/4 [==============================] - 0s 4ms/step - loss: 0.0826 - accuracy: 0.9833\n",
            "Epoch 136/200\n",
            "4/4 [==============================] - 0s 4ms/step - loss: 0.0835 - accuracy: 0.9833\n",
            "Epoch 137/200\n",
            "4/4 [==============================] - 0s 5ms/step - loss: 0.0825 - accuracy: 0.9833\n",
            "Epoch 138/200\n",
            "4/4 [==============================] - 0s 4ms/step - loss: 0.0804 - accuracy: 0.9833\n",
            "Epoch 139/200\n",
            "4/4 [==============================] - 0s 4ms/step - loss: 0.0825 - accuracy: 0.9750\n",
            "Epoch 140/200\n",
            "4/4 [==============================] - 0s 5ms/step - loss: 0.0799 - accuracy: 0.9750\n",
            "Epoch 141/200\n",
            "4/4 [==============================] - 0s 4ms/step - loss: 0.0800 - accuracy: 0.9833\n",
            "Epoch 142/200\n",
            "4/4 [==============================] - 0s 4ms/step - loss: 0.0786 - accuracy: 0.9833\n",
            "Epoch 143/200\n",
            "4/4 [==============================] - 0s 4ms/step - loss: 0.0791 - accuracy: 0.9750\n",
            "Epoch 144/200\n",
            "4/4 [==============================] - 0s 5ms/step - loss: 0.0792 - accuracy: 0.9750\n",
            "Epoch 145/200\n",
            "4/4 [==============================] - 0s 4ms/step - loss: 0.0795 - accuracy: 0.9833\n",
            "Epoch 146/200\n",
            "4/4 [==============================] - 0s 5ms/step - loss: 0.0799 - accuracy: 0.9833\n",
            "Epoch 147/200\n",
            "4/4 [==============================] - 0s 4ms/step - loss: 0.0769 - accuracy: 0.9833\n",
            "Epoch 148/200\n",
            "4/4 [==============================] - 0s 5ms/step - loss: 0.0802 - accuracy: 0.9750\n",
            "Epoch 149/200\n",
            "4/4 [==============================] - 0s 5ms/step - loss: 0.0769 - accuracy: 0.9833\n",
            "Epoch 150/200\n",
            "4/4 [==============================] - 0s 4ms/step - loss: 0.0796 - accuracy: 0.9833\n",
            "Epoch 151/200\n",
            "4/4 [==============================] - 0s 5ms/step - loss: 0.0795 - accuracy: 0.9833\n",
            "Epoch 152/200\n",
            "4/4 [==============================] - 0s 5ms/step - loss: 0.0764 - accuracy: 0.9750\n",
            "Epoch 153/200\n",
            "4/4 [==============================] - 0s 4ms/step - loss: 0.0773 - accuracy: 0.9833\n",
            "Epoch 154/200\n",
            "4/4 [==============================] - 0s 5ms/step - loss: 0.0754 - accuracy: 0.9833\n",
            "Epoch 155/200\n",
            "4/4 [==============================] - 0s 5ms/step - loss: 0.0768 - accuracy: 0.9750\n",
            "Epoch 156/200\n",
            "4/4 [==============================] - 0s 6ms/step - loss: 0.0753 - accuracy: 0.9833\n",
            "Epoch 157/200\n",
            "4/4 [==============================] - 0s 5ms/step - loss: 0.0784 - accuracy: 0.9750\n",
            "Epoch 158/200\n",
            "4/4 [==============================] - 0s 5ms/step - loss: 0.0781 - accuracy: 0.9833\n",
            "Epoch 159/200\n",
            "4/4 [==============================] - 0s 4ms/step - loss: 0.0774 - accuracy: 0.9833\n",
            "Epoch 160/200\n",
            "4/4 [==============================] - 0s 5ms/step - loss: 0.0750 - accuracy: 0.9750\n",
            "Epoch 161/200\n",
            "4/4 [==============================] - 0s 4ms/step - loss: 0.0772 - accuracy: 0.9833\n",
            "Epoch 162/200\n",
            "4/4 [==============================] - 0s 5ms/step - loss: 0.0742 - accuracy: 0.9833\n",
            "Epoch 163/200\n",
            "4/4 [==============================] - 0s 5ms/step - loss: 0.0764 - accuracy: 0.9750\n",
            "Epoch 164/200\n",
            "4/4 [==============================] - 0s 5ms/step - loss: 0.0755 - accuracy: 0.9750\n",
            "Epoch 165/200\n",
            "4/4 [==============================] - 0s 4ms/step - loss: 0.0743 - accuracy: 0.9833\n",
            "Epoch 166/200\n",
            "4/4 [==============================] - 0s 7ms/step - loss: 0.0739 - accuracy: 0.9833\n",
            "Epoch 167/200\n",
            "4/4 [==============================] - 0s 7ms/step - loss: 0.0728 - accuracy: 0.9833\n",
            "Epoch 168/200\n",
            "4/4 [==============================] - 0s 6ms/step - loss: 0.0713 - accuracy: 0.9833\n",
            "Epoch 169/200\n",
            "4/4 [==============================] - 0s 6ms/step - loss: 0.0760 - accuracy: 0.9750\n",
            "Epoch 170/200\n",
            "4/4 [==============================] - 0s 5ms/step - loss: 0.0778 - accuracy: 0.9750\n",
            "Epoch 171/200\n",
            "4/4 [==============================] - 0s 5ms/step - loss: 0.0738 - accuracy: 0.9833\n",
            "Epoch 172/200\n",
            "4/4 [==============================] - 0s 5ms/step - loss: 0.0725 - accuracy: 0.9833\n",
            "Epoch 173/200\n",
            "4/4 [==============================] - 0s 4ms/step - loss: 0.0712 - accuracy: 0.9833\n",
            "Epoch 174/200\n",
            "4/4 [==============================] - 0s 5ms/step - loss: 0.0724 - accuracy: 0.9750\n",
            "Epoch 175/200\n",
            "4/4 [==============================] - 0s 5ms/step - loss: 0.0715 - accuracy: 0.9833\n",
            "Epoch 176/200\n",
            "4/4 [==============================] - 0s 5ms/step - loss: 0.0715 - accuracy: 0.9750\n",
            "Epoch 177/200\n",
            "4/4 [==============================] - 0s 5ms/step - loss: 0.0730 - accuracy: 0.9833\n",
            "Epoch 178/200\n",
            "4/4 [==============================] - 0s 5ms/step - loss: 0.0711 - accuracy: 0.9833\n",
            "Epoch 179/200\n",
            "4/4 [==============================] - 0s 5ms/step - loss: 0.0722 - accuracy: 0.9750\n",
            "Epoch 180/200\n",
            "4/4 [==============================] - 0s 5ms/step - loss: 0.0711 - accuracy: 0.9750\n",
            "Epoch 181/200\n",
            "4/4 [==============================] - 0s 5ms/step - loss: 0.0726 - accuracy: 0.9833\n",
            "Epoch 182/200\n",
            "4/4 [==============================] - 0s 5ms/step - loss: 0.0698 - accuracy: 0.9833\n",
            "Epoch 183/200\n",
            "4/4 [==============================] - 0s 4ms/step - loss: 0.0753 - accuracy: 0.9750\n",
            "Epoch 184/200\n",
            "4/4 [==============================] - 0s 4ms/step - loss: 0.0713 - accuracy: 0.9750\n",
            "Epoch 185/200\n",
            "4/4 [==============================] - 0s 5ms/step - loss: 0.0773 - accuracy: 0.9750\n",
            "Epoch 186/200\n",
            "4/4 [==============================] - 0s 5ms/step - loss: 0.0750 - accuracy: 0.9833\n",
            "Epoch 187/200\n",
            "4/4 [==============================] - 0s 5ms/step - loss: 0.0695 - accuracy: 0.9750\n",
            "Epoch 188/200\n",
            "4/4 [==============================] - 0s 5ms/step - loss: 0.0704 - accuracy: 0.9750\n",
            "Epoch 189/200\n",
            "4/4 [==============================] - 0s 5ms/step - loss: 0.0690 - accuracy: 0.9833\n",
            "Epoch 190/200\n",
            "4/4 [==============================] - 0s 5ms/step - loss: 0.0723 - accuracy: 0.9833\n",
            "Epoch 191/200\n",
            "4/4 [==============================] - 0s 5ms/step - loss: 0.0699 - accuracy: 0.9833\n",
            "Epoch 192/200\n",
            "4/4 [==============================] - 0s 5ms/step - loss: 0.0685 - accuracy: 0.9833\n",
            "Epoch 193/200\n",
            "4/4 [==============================] - 0s 4ms/step - loss: 0.0689 - accuracy: 0.9750\n",
            "Epoch 194/200\n",
            "4/4 [==============================] - 0s 5ms/step - loss: 0.0684 - accuracy: 0.9750\n",
            "Epoch 195/200\n",
            "4/4 [==============================] - 0s 5ms/step - loss: 0.0683 - accuracy: 0.9833\n",
            "Epoch 196/200\n",
            "4/4 [==============================] - 0s 5ms/step - loss: 0.0702 - accuracy: 0.9833\n",
            "Epoch 197/200\n",
            "4/4 [==============================] - 0s 5ms/step - loss: 0.0703 - accuracy: 0.9750\n",
            "Epoch 198/200\n",
            "4/4 [==============================] - 0s 6ms/step - loss: 0.0703 - accuracy: 0.9833\n",
            "Epoch 199/200\n",
            "4/4 [==============================] - 0s 5ms/step - loss: 0.0718 - accuracy: 0.9833\n",
            "Epoch 200/200\n",
            "4/4 [==============================] - 0s 5ms/step - loss: 0.0721 - accuracy: 0.9833\n"
          ]
        }
      ]
    },
    {
      "cell_type": "code",
      "source": [
        "# 학습 현황 acc 변동 시각화\n",
        "# 선그래프 그리기\n",
        "plt.figure(figsize = (10,3))\n",
        "plt.subplot(1,2,1)\n",
        "plt.plot(range(1,201), h1.history['accuracy'], label = 'h1_acc', color = 'b')\n",
        "plt.legend()\n",
        "\n",
        "plt.subplot(1,2,2)\n",
        "plt.plot(range(1,201), h2.history['accuracy'], label = 'h2_acc', color = 'r')\n",
        "plt.legend()\n",
        "plt.show()"
      ],
      "metadata": {
        "colab": {
          "base_uri": "https://localhost:8080/",
          "height": 292
        },
        "id": "m3cUCg0VOw4W",
        "outputId": "9521b5cc-d648-4c9f-cb6b-54f70a40b033"
      },
      "execution_count": null,
      "outputs": [
        {
          "output_type": "display_data",
          "data": {
            "text/plain": [
              "<Figure size 1000x300 with 2 Axes>"
            ],
            "image/png": "[encoded data removed]"
          },
          "metadata": {}
        }
      ]
    },
    {
      "cell_type": "code",
      "source": [
        "# 평가\n",
        "model.evaluate(X_test, y_test_oh)[1] # 97%"
      ],
      "metadata": {
        "colab": {
          "base_uri": "https://localhost:8080/"
        },
        "id": "A_P6OQU7gkqE",
        "outputId": "6f26f6ba-5225-4968-f27f-2e9971f78a7a"
      },
      "execution_count": null,
      "outputs": [
        {
          "output_type": "stream",
          "name": "stdout",
          "text": [
            "1/1 [==============================] - 0s 227ms/step - loss: 0.0463 - accuracy: 0.9667\n"
          ]
        },
        {
          "output_type": "execute_result",
          "data": {
            "text/plain": [
              "0.9666666388511658"
            ]
          },
          "metadata": {},
          "execution_count": 31
        }
      ]
    },
    {
      "cell_type": "code",
      "source": [
        "# 예측\n",
        "# predict\n",
        "pred = model.predict(X_test)\n",
        "np.argmax(pred[0]) # 제일 큰 값을 가지고 있는 위치 출력 : np.argmax() => 클래스 값 확인"
      ],
      "metadata": {
        "colab": {
          "base_uri": "https://localhost:8080/"
        },
        "id": "0ndMXclNgksU",
        "outputId": "62d20da3-95b7-4b62-b8a6-fd82d345da29"
      },
      "execution_count": null,
      "outputs": [
        {
          "output_type": "stream",
          "name": "stdout",
          "text": [
            "1/1 [==============================] - 0s 42ms/step\n"
          ]
        },
        {
          "output_type": "execute_result",
          "data": {
            "text/plain": [
              "0"
            ]
          },
          "metadata": {},
          "execution_count": 36
        }
      ]
    },
    {
      "cell_type": "code",
      "source": [
        "pred.shape"
      ],
      "metadata": {
        "colab": {
          "base_uri": "https://localhost:8080/"
        },
        "id": "wiRNWQx7k78F",
        "outputId": "2c26435f-abe1-456f-c79d-84f613a2558a"
      },
      "execution_count": null,
      "outputs": [
        {
          "output_type": "execute_result",
          "data": {
            "text/plain": [
              "(30, 3)"
            ]
          },
          "metadata": {},
          "execution_count": 35
        }
      ]
    },
    {
      "cell_type": "code",
      "source": [
        "X_test.shape"
      ],
      "metadata": {
        "colab": {
          "base_uri": "https://localhost:8080/"
        },
        "id": "RLEhLzyOgku9",
        "outputId": "b271a12d-a96c-4b9a-ba5b-d592b3581cec"
      },
      "execution_count": null,
      "outputs": [
        {
          "output_type": "execute_result",
          "data": {
            "text/plain": [
              "(30, 4)"
            ]
          },
          "metadata": {},
          "execution_count": 33
        }
      ]
    },
    {
      "cell_type": "code",
      "source": [],
      "metadata": {
        "id": "Xks-yHfLgkxd"
      },
      "execution_count": null,
      "outputs": []
    },
    {
      "cell_type": "code",
      "source": [],
      "metadata": {
        "id": "1Y8L9aOngkzt"
      },
      "execution_count": null,
      "outputs": []
    },
    {
      "cell_type": "code",
      "source": [],
      "metadata": {
        "id": "ZoNkkegLgk18"
      },
      "execution_count": null,
      "outputs": []
    },
    {
      "cell_type": "code",
      "source": [],
      "metadata": {
        "id": "HEkxjf6zgk4N"
      },
      "execution_count": null,
      "outputs": []
    },
    {
      "cell_type": "code",
      "source": [],
      "metadata": {
        "id": "8JkGcf0hOw69"
      },
      "execution_count": null,
      "outputs": []
    }
  ]
}